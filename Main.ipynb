{
 "cells": [
  {
   "cell_type": "markdown",
   "metadata": {},
   "source": [
    "# IMPORTS AND FUNCTIONS"
   ]
  },
  {
   "cell_type": "code",
   "execution_count": 1,
   "metadata": {},
   "outputs": [
    {
     "name": "stderr",
     "output_type": "stream",
     "text": [
      "c:\\Users\\larar\\anaconda3\\envs\\deeplearning2024\\Lib\\site-packages\\onnxruntime\\capi\\onnxruntime_validation.py:26: UserWarning: Unsupported Windows version (11). ONNX Runtime supports Windows 10 and above, only.\n",
      "  warnings.warn(\n"
     ]
    }
   ],
   "source": [
    "import os\n",
    "import random\n",
    "import cv2\n",
    "import matplotlib.pyplot as plt\n",
    "import torchvision.transforms as transforms\n",
    "from torch.utils.data import DataLoader\n",
    "from torchvision.datasets import ImageFolder\n",
    "from torch.utils.data import DataLoader, random_split\n",
    "from sklearn.preprocessing import LabelEncoder\n",
    "import torch\n",
    "import torch.nn as nn\n",
    "import seaborn as sns\n",
    "import pandas as pd\n",
    "\n"
   ]
  },
  {
   "cell_type": "code",
   "execution_count": 2,
   "metadata": {},
   "outputs": [],
   "source": [
    "from functions_preprocessing import combine_image_folders, erase_double_images, train_test\n",
    "\n",
    "import functions_validation as v\n",
    "\n",
    "import functions_licenseplate as fl\n",
    "\n",
    "import functions_recognition as r\n",
    "\n",
    "import SVC as svc\n",
    "\n",
    "import CNN as cnn\n",
    "\n",
    "import API_car_model as api"
   ]
  },
  {
   "cell_type": "markdown",
   "metadata": {},
   "source": [
    "# PREPROCESSING DATA"
   ]
  },
  {
   "cell_type": "code",
   "execution_count": 17,
   "metadata": {},
   "outputs": [
    {
     "name": "stdout",
     "output_type": "stream",
     "text": [
      "Folder created: G:/Mi unidad/LICENSE_PLATES_RECOGITION_L&V/GITHUB_IMAGES\n"
     ]
    }
   ],
   "source": [
    "\n",
    "\"\"\"source_folders = [\n",
    "    \"G:/Mi unidad/LICENSE_PLATES_RECOGITION_L&V/Images/FOTOS MERI\",\n",
    "    \"G:/Mi unidad/LICENSE_PLATES_RECOGITION_L&V/Images/FOTOS\",\n",
    "    \"G:/Mi unidad/LICENSE_PLATES_RECOGITION_L&V/Images/FOTOS LARA\",\n",
    "    \"G:/Mi unidad/LICENSE_PLATES_RECOGITION_L&V/Images/Images (CV)/Frontal\",\n",
    "    \"G:/Mi unidad/LICENSE_PLATES_RECOGITION_L&V/Images/Images (CV)/Lateral\"\n",
    "]\n",
    "\n",
    "destination_folder = 'G:/Mi unidad/LICENSE_PLATES_RECOGITION_L&V/GITHUB_IMAGES'\n",
    "combine_image_folders(source_folders, destination_folder) #ALREADY CREATED\"\"\"\n"
   ]
  },
  {
   "cell_type": "code",
   "execution_count": 18,
   "metadata": {},
   "outputs": [
    {
     "name": "stdout",
     "output_type": "stream",
     "text": [
      "Deleted: G:/Mi unidad/LICENSE_PLATES_RECOGITION_L&V/GITHUB_IMAGES\\8970GZR (1).jpg\n",
      "Deleted: G:/Mi unidad/LICENSE_PLATES_RECOGITION_L&V/GITHUB_IMAGES\\7122FYJ (1).jpg\n",
      "Deleted: G:/Mi unidad/LICENSE_PLATES_RECOGITION_L&V/GITHUB_IMAGES\\2748LKK (1).jpg\n",
      "Deleted: G:/Mi unidad/LICENSE_PLATES_RECOGITION_L&V/GITHUB_IMAGES\\0085LND (1).jpg\n",
      "Deleted: G:/Mi unidad/LICENSE_PLATES_RECOGITION_L&V/GITHUB_IMAGES\\1139LJX (1).jpg\n",
      "Deleted: G:/Mi unidad/LICENSE_PLATES_RECOGITION_L&V/GITHUB_IMAGES\\2375KFD (1).jpg\n",
      "Deleted: G:/Mi unidad/LICENSE_PLATES_RECOGITION_L&V/GITHUB_IMAGES\\4634JKH (1).jpg\n",
      "Deleted: G:/Mi unidad/LICENSE_PLATES_RECOGITION_L&V/GITHUB_IMAGES\\4346HMW (1).jpg\n",
      "Deleted: G:/Mi unidad/LICENSE_PLATES_RECOGITION_L&V/GITHUB_IMAGES\\8033MLP (1).jpg\n",
      "Deleted: G:/Mi unidad/LICENSE_PLATES_RECOGITION_L&V/GITHUB_IMAGES\\4812GTX (1).jpg\n",
      "Deleted: G:/Mi unidad/LICENSE_PLATES_RECOGITION_L&V/GITHUB_IMAGES\\3214LCL (1).jpg\n",
      "Deleted: G:/Mi unidad/LICENSE_PLATES_RECOGITION_L&V/GITHUB_IMAGES\\7911LYX (1).jpg\n",
      "Deleted: G:/Mi unidad/LICENSE_PLATES_RECOGITION_L&V/GITHUB_IMAGES\\1258GBP (1).jpg\n",
      "Deleted: G:/Mi unidad/LICENSE_PLATES_RECOGITION_L&V/GITHUB_IMAGES\\1818GZL (1).jpg\n",
      "Deleted: G:/Mi unidad/LICENSE_PLATES_RECOGITION_L&V/GITHUB_IMAGES\\9455JKM (1).jpg\n",
      "Deleted: G:/Mi unidad/LICENSE_PLATES_RECOGITION_L&V/GITHUB_IMAGES\\6445HNP (1).jpg\n",
      "Deleted: G:/Mi unidad/LICENSE_PLATES_RECOGITION_L&V/GITHUB_IMAGES\\6011HHV (2).jpg\n",
      "Deleted: G:/Mi unidad/LICENSE_PLATES_RECOGITION_L&V/GITHUB_IMAGES\\9980GCB (1).jpg\n",
      "Deleted: G:/Mi unidad/LICENSE_PLATES_RECOGITION_L&V/GITHUB_IMAGES\\1556DXM (1).jpg\n",
      "Deleted: G:/Mi unidad/LICENSE_PLATES_RECOGITION_L&V/GITHUB_IMAGES\\6011HHV (1).jpg\n",
      "Deleted: G:/Mi unidad/LICENSE_PLATES_RECOGITION_L&V/GITHUB_IMAGES\\1681LJT (1).jpg\n",
      "Deleted: G:/Mi unidad/LICENSE_PLATES_RECOGITION_L&V/GITHUB_IMAGES\\2552HGF (1).jpg\n",
      "Deleted: G:/Mi unidad/LICENSE_PLATES_RECOGITION_L&V/GITHUB_IMAGES\\4077LKM (1).jpg\n",
      "Deleted: G:/Mi unidad/LICENSE_PLATES_RECOGITION_L&V/GITHUB_IMAGES\\4960GXC (1).jpg\n",
      "Deleted: G:/Mi unidad/LICENSE_PLATES_RECOGITION_L&V/GITHUB_IMAGES\\5498HKM (1).jpg\n",
      "Deleted: G:/Mi unidad/LICENSE_PLATES_RECOGITION_L&V/GITHUB_IMAGES\\5753GPV (1).jpg\n"
     ]
    }
   ],
   "source": [
    "\n",
    "\"\"\"folder_path = 'G:/Mi unidad/LICENSE_PLATES_RECOGITION_L&V/GITHUB_IMAGES'\n",
    "erase_double_images(folder_path)\"\"\""
   ]
  },
  {
   "cell_type": "code",
   "execution_count": 19,
   "metadata": {},
   "outputs": [
    {
     "name": "stdout",
     "output_type": "stream",
     "text": [
      "Data split complete: 144 training files, 72 testing files, 24 validation files.\n"
     ]
    }
   ],
   "source": [
    "\"\"\"source_folder = 'G:/Mi unidad/LICENSE_PLATES_RECOGITION_L&V/GITHUB_IMAGES'  \n",
    "train_folder = 'G:/Mi unidad/LICENSE_PLATES_RECOGITION_L&V/GITHUB_trainset'    \n",
    "test_folder = 'G:/Mi unidad/LICENSE_PLATES_RECOGITION_L&V/GITHUB_testset'     \n",
    "val_folder = 'G:/Mi unidad/LICENSE_PLATES_RECOGITION_L&V/GITHUB_validationset'\n",
    "# Call the train_test function to perform the split\n",
    "train_test(source_folder, train_folder, test_folder, val_folder)\"\"\"\n"
   ]
  },
  {
   "cell_type": "markdown",
   "metadata": {},
   "source": [
    "# DETECTION LICENSE PLATE"
   ]
  },
  {
   "cell_type": "markdown",
   "metadata": {},
   "source": [
    "## CROPPING USING YOLO"
   ]
  },
  {
   "cell_type": "code",
   "execution_count": 7,
   "metadata": {},
   "outputs": [],
   "source": [
    "\"\"\"image_folder_2 = 'G:/Mi unidad/LICENSE_PLATES_RECOGITION_L&V/GITHUB_trainset'\n",
    "cropped_plates_train_2 = fl.boundingbox(image_folder_2)#dictionary name plate (sequence) + croppedd image\n",
    "image_folder_3 = 'G:/Mi unidad/LICENSE_PLATES_RECOGITION_L&V/GITHUB_testset'\n",
    "cropped_plates_train_3 = fl.boundingbox(image_folder_3)#dictionary name plate (sequence) + croppedd image\n",
    "image_folder_4 = 'G:/Mi unidad/LICENSE_PLATES_RECOGITION_L&V/GITHUB_validationset'\n",
    "cropped_plates_train_4 = fl.boundingbox(image_folder_4)#dictionary name plate (sequence) + croppedd image\"\"\""
   ]
  },
  {
   "cell_type": "code",
   "execution_count": 8,
   "metadata": {},
   "outputs": [
    {
     "name": "stdout",
     "output_type": "stream",
     "text": [
      "Saved cropped plate to G:/Mi unidad/LICENSE_PLATES_RECOGITION_L&V/GITHUB_trainset_croppedimages\\1310MPK.jpg\n",
      "Saved cropped plate to G:/Mi unidad/LICENSE_PLATES_RECOGITION_L&V/GITHUB_trainset_croppedimages\\6040DLX.jpg\n",
      "Saved cropped plate to G:/Mi unidad/LICENSE_PLATES_RECOGITION_L&V/GITHUB_trainset_croppedimages\\2953JHW.jpg\n",
      "Saved cropped plate to G:/Mi unidad/LICENSE_PLATES_RECOGITION_L&V/GITHUB_trainset_croppedimages\\8384KWN.jpg\n",
      "Saved cropped plate to G:/Mi unidad/LICENSE_PLATES_RECOGITION_L&V/GITHUB_trainset_croppedimages\\5240KSW.jpg\n",
      "Saved cropped plate to G:/Mi unidad/LICENSE_PLATES_RECOGITION_L&V/GITHUB_trainset_croppedimages\\6712KPR.jpg\n",
      "Saved cropped plate to G:/Mi unidad/LICENSE_PLATES_RECOGITION_L&V/GITHUB_trainset_croppedimages\\6554BNX.jpg\n",
      "Saved cropped plate to G:/Mi unidad/LICENSE_PLATES_RECOGITION_L&V/GITHUB_trainset_croppedimages\\1339MMS.jpg\n",
      "Saved cropped plate to G:/Mi unidad/LICENSE_PLATES_RECOGITION_L&V/GITHUB_trainset_croppedimages\\9542KDC.jpg\n",
      "Saved cropped plate to G:/Mi unidad/LICENSE_PLATES_RECOGITION_L&V/GITHUB_trainset_croppedimages\\1107JND.jpg\n",
      "Saved cropped plate to G:/Mi unidad/LICENSE_PLATES_RECOGITION_L&V/GITHUB_trainset_croppedimages\\1824KYK.jpg\n",
      "Saved cropped plate to G:/Mi unidad/LICENSE_PLATES_RECOGITION_L&V/GITHUB_trainset_croppedimages\\3404KXN.jpg\n",
      "Saved cropped plate to G:/Mi unidad/LICENSE_PLATES_RECOGITION_L&V/GITHUB_trainset_croppedimages\\5172LTZ.jpg\n",
      "Saved cropped plate to G:/Mi unidad/LICENSE_PLATES_RECOGITION_L&V/GITHUB_trainset_croppedimages\\4485LZB.jpg\n",
      "Saved cropped plate to G:/Mi unidad/LICENSE_PLATES_RECOGITION_L&V/GITHUB_trainset_croppedimages\\4283DJR.jpg\n",
      "Saved cropped plate to G:/Mi unidad/LICENSE_PLATES_RECOGITION_L&V/GITHUB_trainset_croppedimages\\6000GVT.jpg\n",
      "Saved cropped plate to G:/Mi unidad/LICENSE_PLATES_RECOGITION_L&V/GITHUB_trainset_croppedimages\\6011HHV.jpg\n",
      "Saved cropped plate to G:/Mi unidad/LICENSE_PLATES_RECOGITION_L&V/GITHUB_trainset_croppedimages\\1949LLT.jpg\n",
      "Saved cropped plate to G:/Mi unidad/LICENSE_PLATES_RECOGITION_L&V/GITHUB_trainset_croppedimages\\3256HPR.jpg\n",
      "Saved cropped plate to G:/Mi unidad/LICENSE_PLATES_RECOGITION_L&V/GITHUB_trainset_croppedimages\\6445HNP.jpg\n",
      "Saved cropped plate to G:/Mi unidad/LICENSE_PLATES_RECOGITION_L&V/GITHUB_trainset_croppedimages\\9532GVC.jpg\n",
      "Saved cropped plate to G:/Mi unidad/LICENSE_PLATES_RECOGITION_L&V/GITHUB_trainset_croppedimages\\5240BFM.jpg\n",
      "Saved cropped plate to G:/Mi unidad/LICENSE_PLATES_RECOGITION_L&V/GITHUB_trainset_croppedimages\\2344KJP.jpg\n",
      "Saved cropped plate to G:/Mi unidad/LICENSE_PLATES_RECOGITION_L&V/GITHUB_trainset_croppedimages\\7746KBG.jpg\n",
      "Saved cropped plate to G:/Mi unidad/LICENSE_PLATES_RECOGITION_L&V/GITHUB_trainset_croppedimages\\2603HJF.jpg\n",
      "Saved cropped plate to G:/Mi unidad/LICENSE_PLATES_RECOGITION_L&V/GITHUB_trainset_croppedimages\\9331CRK.jpg\n",
      "Saved cropped plate to G:/Mi unidad/LICENSE_PLATES_RECOGITION_L&V/GITHUB_trainset_croppedimages\\0304FWK.jpg\n",
      "Saved cropped plate to G:/Mi unidad/LICENSE_PLATES_RECOGITION_L&V/GITHUB_trainset_croppedimages\\4900KPY.jpg\n",
      "Saved cropped plate to G:/Mi unidad/LICENSE_PLATES_RECOGITION_L&V/GITHUB_trainset_croppedimages\\5789JHB.jpg\n",
      "Saved cropped plate to G:/Mi unidad/LICENSE_PLATES_RECOGITION_L&V/GITHUB_trainset_croppedimages\\9694LWX.jpg\n",
      "Saved cropped plate to G:/Mi unidad/LICENSE_PLATES_RECOGITION_L&V/GITHUB_trainset_croppedimages\\6688KSW.jpg\n",
      "Saved cropped plate to G:/Mi unidad/LICENSE_PLATES_RECOGITION_L&V/GITHUB_trainset_croppedimages\\0907JRF.jpg\n",
      "Saved cropped plate to G:/Mi unidad/LICENSE_PLATES_RECOGITION_L&V/GITHUB_trainset_croppedimages\\0278KXW.jpg\n",
      "Saved cropped plate to G:/Mi unidad/LICENSE_PLATES_RECOGITION_L&V/GITHUB_trainset_croppedimages\\1667BTS.jpg\n",
      "Saved cropped plate to G:/Mi unidad/LICENSE_PLATES_RECOGITION_L&V/GITHUB_trainset_croppedimages\\0550HNN.jpg\n",
      "Saved cropped plate to G:/Mi unidad/LICENSE_PLATES_RECOGITION_L&V/GITHUB_trainset_croppedimages\\4346HMW.jpg\n",
      "Saved cropped plate to G:/Mi unidad/LICENSE_PLATES_RECOGITION_L&V/GITHUB_trainset_croppedimages\\1286JJG.jpg\n",
      "Saved cropped plate to G:/Mi unidad/LICENSE_PLATES_RECOGITION_L&V/GITHUB_trainset_croppedimages\\3983GVK.jpg\n",
      "Saved cropped plate to G:/Mi unidad/LICENSE_PLATES_RECOGITION_L&V/GITHUB_trainset_croppedimages\\220LNW.jpg\n",
      "Saved cropped plate to G:/Mi unidad/LICENSE_PLATES_RECOGITION_L&V/GITHUB_trainset_croppedimages\\3865GBM.jpg\n",
      "Saved cropped plate to G:/Mi unidad/LICENSE_PLATES_RECOGITION_L&V/GITHUB_trainset_croppedimages\\4674FHC.jpg\n",
      "Saved cropped plate to G:/Mi unidad/LICENSE_PLATES_RECOGITION_L&V/GITHUB_trainset_croppedimages\\3691MTY.jpg\n",
      "Saved cropped plate to G:/Mi unidad/LICENSE_PLATES_RECOGITION_L&V/GITHUB_trainset_croppedimages\\7067KSH.jpg\n",
      "Saved cropped plate to G:/Mi unidad/LICENSE_PLATES_RECOGITION_L&V/GITHUB_trainset_croppedimages\\4000GFL.jpg\n",
      "Saved cropped plate to G:/Mi unidad/LICENSE_PLATES_RECOGITION_L&V/GITHUB_trainset_croppedimages\\5361HPY.jpg\n",
      "Saved cropped plate to G:/Mi unidad/LICENSE_PLATES_RECOGITION_L&V/GITHUB_trainset_croppedimages\\4679HHB.jpg\n",
      "Saved cropped plate to G:/Mi unidad/LICENSE_PLATES_RECOGITION_L&V/GITHUB_trainset_croppedimages\\2031JPF.jpg\n",
      "Saved cropped plate to G:/Mi unidad/LICENSE_PLATES_RECOGITION_L&V/GITHUB_trainset_croppedimages\\3845GJZ.jpg\n",
      "Saved cropped plate to G:/Mi unidad/LICENSE_PLATES_RECOGITION_L&V/GITHUB_trainset_croppedimages\\7720LWN.jpg\n",
      "Saved cropped plate to G:/Mi unidad/LICENSE_PLATES_RECOGITION_L&V/GITHUB_trainset_croppedimages\\2861KXC.jpg\n",
      "Saved cropped plate to G:/Mi unidad/LICENSE_PLATES_RECOGITION_L&V/GITHUB_trainset_croppedimages\\1681LJT.jpg\n",
      "Saved cropped plate to G:/Mi unidad/LICENSE_PLATES_RECOGITION_L&V/GITHUB_trainset_croppedimages\\3963KFM.jpg\n",
      "Saved cropped plate to G:/Mi unidad/LICENSE_PLATES_RECOGITION_L&V/GITHUB_trainset_croppedimages\\8146JHT.jpg\n",
      "Saved cropped plate to G:/Mi unidad/LICENSE_PLATES_RECOGITION_L&V/GITHUB_trainset_croppedimages\\3587DCX.jpg\n",
      "Saved cropped plate to G:/Mi unidad/LICENSE_PLATES_RECOGITION_L&V/GITHUB_trainset_croppedimages\\4182KMG.jpg\n",
      "Saved cropped plate to G:/Mi unidad/LICENSE_PLATES_RECOGITION_L&V/GITHUB_trainset_croppedimages\\9892JFR.jpg\n",
      "Saved cropped plate to G:/Mi unidad/LICENSE_PLATES_RECOGITION_L&V/GITHUB_trainset_croppedimages\\7911LYX.jpg\n",
      "Saved cropped plate to G:/Mi unidad/LICENSE_PLATES_RECOGITION_L&V/GITHUB_trainset_croppedimages\\6098HMF.jpg\n",
      "Saved cropped plate to G:/Mi unidad/LICENSE_PLATES_RECOGITION_L&V/GITHUB_trainset_croppedimages\\8120GLL.jpg\n",
      "Saved cropped plate to G:/Mi unidad/LICENSE_PLATES_RECOGITION_L&V/GITHUB_trainset_croppedimages\\8555JKG.jpg\n",
      "Saved cropped plate to G:/Mi unidad/LICENSE_PLATES_RECOGITION_L&V/GITHUB_trainset_croppedimages\\7864GTX.jpg\n",
      "Saved cropped plate to G:/Mi unidad/LICENSE_PLATES_RECOGITION_L&V/GITHUB_trainset_croppedimages\\2375KFD.jpg\n",
      "Saved cropped plate to G:/Mi unidad/LICENSE_PLATES_RECOGITION_L&V/GITHUB_trainset_croppedimages\\8597FSC.jpg\n",
      "Saved cropped plate to G:/Mi unidad/LICENSE_PLATES_RECOGITION_L&V/GITHUB_trainset_croppedimages\\4634JKH.jpg\n",
      "Saved cropped plate to G:/Mi unidad/LICENSE_PLATES_RECOGITION_L&V/GITHUB_trainset_croppedimages\\5052HLJ.jpg\n",
      "Saved cropped plate to G:/Mi unidad/LICENSE_PLATES_RECOGITION_L&V/GITHUB_trainset_croppedimages\\1072FRD.jpg\n",
      "Saved cropped plate to G:/Mi unidad/LICENSE_PLATES_RECOGITION_L&V/GITHUB_trainset_croppedimages\\5133MBD.jpg\n",
      "Saved cropped plate to G:/Mi unidad/LICENSE_PLATES_RECOGITION_L&V/GITHUB_trainset_croppedimages\\6963HKS.jpg\n",
      "Saved cropped plate to G:/Mi unidad/LICENSE_PLATES_RECOGITION_L&V/GITHUB_trainset_croppedimages\\9509HGD.jpg\n",
      "Saved cropped plate to G:/Mi unidad/LICENSE_PLATES_RECOGITION_L&V/GITHUB_trainset_croppedimages\\9603MPD.jpg\n",
      "Saved cropped plate to G:/Mi unidad/LICENSE_PLATES_RECOGITION_L&V/GITHUB_trainset_croppedimages\\0161MDT.jpg\n",
      "Saved cropped plate to G:/Mi unidad/LICENSE_PLATES_RECOGITION_L&V/GITHUB_trainset_croppedimages\\5004MGB.jpg\n",
      "Saved cropped plate to G:/Mi unidad/LICENSE_PLATES_RECOGITION_L&V/GITHUB_trainset_croppedimages\\1818GZL.jpg\n",
      "Saved cropped plate to G:/Mi unidad/LICENSE_PLATES_RECOGITION_L&V/GITHUB_trainset_croppedimages\\0649DHS.jpg\n",
      "Saved cropped plate to G:/Mi unidad/LICENSE_PLATES_RECOGITION_L&V/GITHUB_trainset_croppedimages\\7963KNH.jpg\n",
      "Saved cropped plate to G:/Mi unidad/LICENSE_PLATES_RECOGITION_L&V/GITHUB_trainset_croppedimages\\2709FWH.jpg\n",
      "Saved cropped plate to G:/Mi unidad/LICENSE_PLATES_RECOGITION_L&V/GITHUB_trainset_croppedimages\\1927HDH.jpg\n",
      "Saved cropped plate to G:/Mi unidad/LICENSE_PLATES_RECOGITION_L&V/GITHUB_trainset_croppedimages\\9408CZF.jpg\n",
      "Saved cropped plate to G:/Mi unidad/LICENSE_PLATES_RECOGITION_L&V/GITHUB_trainset_croppedimages\\6775BNF.jpg\n",
      "Saved cropped plate to G:/Mi unidad/LICENSE_PLATES_RECOGITION_L&V/GITHUB_trainset_croppedimages\\0085LND.jpg\n",
      "Saved cropped plate to G:/Mi unidad/LICENSE_PLATES_RECOGITION_L&V/GITHUB_trainset_croppedimages\\0776MKK.jpg\n",
      "Saved cropped plate to G:/Mi unidad/LICENSE_PLATES_RECOGITION_L&V/GITHUB_trainset_croppedimages\\6490HTD.jpg\n",
      "Saved cropped plate to G:/Mi unidad/LICENSE_PLATES_RECOGITION_L&V/GITHUB_trainset_croppedimages\\4789HNG.jpg\n",
      "Saved cropped plate to G:/Mi unidad/LICENSE_PLATES_RECOGITION_L&V/GITHUB_trainset_croppedimages\\0195JHM.jpg\n",
      "Saved cropped plate to G:/Mi unidad/LICENSE_PLATES_RECOGITION_L&V/GITHUB_trainset_croppedimages\\3451LGB.jpg\n",
      "Saved cropped plate to G:/Mi unidad/LICENSE_PLATES_RECOGITION_L&V/GITHUB_trainset_croppedimages\\3076CCV.jpg\n",
      "Saved cropped plate to G:/Mi unidad/LICENSE_PLATES_RECOGITION_L&V/GITHUB_trainset_croppedimages\\6072HBJ.jpg\n",
      "Saved cropped plate to G:/Mi unidad/LICENSE_PLATES_RECOGITION_L&V/GITHUB_trainset_croppedimages\\1029JLW.jpg\n",
      "Saved cropped plate to G:/Mi unidad/LICENSE_PLATES_RECOGITION_L&V/GITHUB_trainset_croppedimages\\5275HGY.jpg\n",
      "Saved cropped plate to G:/Mi unidad/LICENSE_PLATES_RECOGITION_L&V/GITHUB_trainset_croppedimages\\1906HKF.jpg\n",
      "Saved cropped plate to G:/Mi unidad/LICENSE_PLATES_RECOGITION_L&V/GITHUB_trainset_croppedimages\\3845LTY.jpg\n",
      "Saved cropped plate to G:/Mi unidad/LICENSE_PLATES_RECOGITION_L&V/GITHUB_trainset_croppedimages\\B6525WY.jpg\n",
      "Saved cropped plate to G:/Mi unidad/LICENSE_PLATES_RECOGITION_L&V/GITHUB_trainset_croppedimages\\0175HDW.jpg\n",
      "Saved cropped plate to G:/Mi unidad/LICENSE_PLATES_RECOGITION_L&V/GITHUB_trainset_croppedimages\\0041LZN.jpg\n",
      "Saved cropped plate to G:/Mi unidad/LICENSE_PLATES_RECOGITION_L&V/GITHUB_trainset_croppedimages\\4449LSZ.jpg\n",
      "Saved cropped plate to G:/Mi unidad/LICENSE_PLATES_RECOGITION_L&V/GITHUB_trainset_croppedimages\\5386MKJ.jpg\n",
      "Saved cropped plate to G:/Mi unidad/LICENSE_PLATES_RECOGITION_L&V/GITHUB_trainset_croppedimages\\0114BCX.jpg\n",
      "Saved cropped plate to G:/Mi unidad/LICENSE_PLATES_RECOGITION_L&V/GITHUB_trainset_croppedimages\\0192DSP.jpg\n",
      "Saved cropped plate to G:/Mi unidad/LICENSE_PLATES_RECOGITION_L&V/GITHUB_trainset_croppedimages\\8011KHS.jpg\n",
      "Saved cropped plate to G:/Mi unidad/LICENSE_PLATES_RECOGITION_L&V/GITHUB_trainset_croppedimages\\0660JDX.jpg\n",
      "Saved cropped plate to G:/Mi unidad/LICENSE_PLATES_RECOGITION_L&V/GITHUB_trainset_croppedimages\\0182GLK.jpg\n",
      "Saved cropped plate to G:/Mi unidad/LICENSE_PLATES_RECOGITION_L&V/GITHUB_trainset_croppedimages\\2929KXJ.jpg\n",
      "Saved cropped plate to G:/Mi unidad/LICENSE_PLATES_RECOGITION_L&V/GITHUB_trainset_croppedimages\\1556GMZ.jpg\n",
      "Saved cropped plate to G:/Mi unidad/LICENSE_PLATES_RECOGITION_L&V/GITHUB_trainset_croppedimages\\4797LBD.jpg\n",
      "Saved cropped plate to G:/Mi unidad/LICENSE_PLATES_RECOGITION_L&V/GITHUB_trainset_croppedimages\\7332JKC.jpg\n",
      "Saved cropped plate to G:/Mi unidad/LICENSE_PLATES_RECOGITION_L&V/GITHUB_trainset_croppedimages\\0568MBX.jpg\n",
      "Saved cropped plate to G:/Mi unidad/LICENSE_PLATES_RECOGITION_L&V/GITHUB_trainset_croppedimages\\0129KMK.jpg\n",
      "Saved cropped plate to G:/Mi unidad/LICENSE_PLATES_RECOGITION_L&V/GITHUB_trainset_croppedimages\\3362LKY.jpg\n",
      "Saved cropped plate to G:/Mi unidad/LICENSE_PLATES_RECOGITION_L&V/GITHUB_trainset_croppedimages\\7016MLZ.jpg\n",
      "Saved cropped plate to G:/Mi unidad/LICENSE_PLATES_RECOGITION_L&V/GITHUB_trainset_croppedimages\\4080KRB.jpg\n",
      "Saved cropped plate to G:/Mi unidad/LICENSE_PLATES_RECOGITION_L&V/GITHUB_trainset_croppedimages\\5584HJL.jpg\n",
      "Saved cropped plate to G:/Mi unidad/LICENSE_PLATES_RECOGITION_L&V/GITHUB_trainset_croppedimages\\5753GPV.jpg\n",
      "Saved cropped plate to G:/Mi unidad/LICENSE_PLATES_RECOGITION_L&V/GITHUB_trainset_croppedimages\\1855MHN.jpg\n",
      "Saved cropped plate to G:/Mi unidad/LICENSE_PLATES_RECOGITION_L&V/GITHUB_trainset_croppedimages\\1111LRB.jpg\n",
      "Saved cropped plate to G:/Mi unidad/LICENSE_PLATES_RECOGITION_L&V/GITHUB_trainset_croppedimages\\5467MBS.jpg\n",
      "Saved cropped plate to G:/Mi unidad/LICENSE_PLATES_RECOGITION_L&V/GITHUB_trainset_croppedimages\\3247KZJ.jpg\n",
      "Saved cropped plate to G:/Mi unidad/LICENSE_PLATES_RECOGITION_L&V/GITHUB_trainset_croppedimages\\6888LYP.jpg\n",
      "Saved cropped plate to G:/Mi unidad/LICENSE_PLATES_RECOGITION_L&V/GITHUB_trainset_croppedimages\\8970GZR.jpg\n",
      "Saved cropped plate to G:/Mi unidad/LICENSE_PLATES_RECOGITION_L&V/GITHUB_trainset_croppedimages\\0165DXW.jpg\n",
      "Saved cropped plate to G:/Mi unidad/LICENSE_PLATES_RECOGITION_L&V/GITHUB_trainset_croppedimages\\1903HNV.jpg\n",
      "Saved cropped plate to G:/Mi unidad/LICENSE_PLATES_RECOGITION_L&V/GITHUB_trainset_croppedimages\\3497BYY.jpg\n",
      "Saved cropped plate to G:/Mi unidad/LICENSE_PLATES_RECOGITION_L&V/GITHUB_trainset_croppedimages\\2956MJG.jpg\n",
      "Saved cropped plate to G:/Mi unidad/LICENSE_PLATES_RECOGITION_L&V/GITHUB_trainset_croppedimages\\6735LHT.jpg\n",
      "Saved cropped plate to G:/Mi unidad/LICENSE_PLATES_RECOGITION_L&V/GITHUB_trainset_croppedimages\\3353FCB.jpg\n",
      "Saved cropped plate to G:/Mi unidad/LICENSE_PLATES_RECOGITION_L&V/GITHUB_trainset_croppedimages\\4125DVF.jpg\n",
      "Saved cropped plate to G:/Mi unidad/LICENSE_PLATES_RECOGITION_L&V/GITHUB_trainset_croppedimages\\8691KPN.jpg\n",
      "Saved cropped plate to G:/Mi unidad/LICENSE_PLATES_RECOGITION_L&V/GITHUB_trainset_croppedimages\\6401JBX.jpg\n",
      "Saved cropped plate to G:/Mi unidad/LICENSE_PLATES_RECOGITION_L&V/GITHUB_trainset_croppedimages\\0874LNH.jpg\n",
      "Saved cropped plate to G:/Mi unidad/LICENSE_PLATES_RECOGITION_L&V/GITHUB_trainset_croppedimages\\5934GCY.jpg\n",
      "Saved cropped plate to G:/Mi unidad/LICENSE_PLATES_RECOGITION_L&V/GITHUB_trainset_croppedimages\\5179LBS.jpg\n",
      "Saved cropped plate to G:/Mi unidad/LICENSE_PLATES_RECOGITION_L&V/GITHUB_trainset_croppedimages\\4181GWT.jpg\n",
      "Saved cropped plate to G:/Mi unidad/LICENSE_PLATES_RECOGITION_L&V/GITHUB_trainset_croppedimages\\GI3660BS.jpg\n",
      "Saved cropped plate to G:/Mi unidad/LICENSE_PLATES_RECOGITION_L&V/GITHUB_trainset_croppedimages\\5936LDW.jpg\n",
      "Saved cropped plate to G:/Mi unidad/LICENSE_PLATES_RECOGITION_L&V/GITHUB_trainset_croppedimages\\3773JLN.jpg\n",
      "Saved cropped plate to G:/Mi unidad/LICENSE_PLATES_RECOGITION_L&V/GITHUB_trainset_croppedimages\\4087KTZ.jpg\n",
      "Saved cropped plate to G:/Mi unidad/LICENSE_PLATES_RECOGITION_L&V/GITHUB_trainset_croppedimages\\1394CTX.jpg\n",
      "Saved cropped plate to G:/Mi unidad/LICENSE_PLATES_RECOGITION_L&V/GITHUB_trainset_croppedimages\\9455JKM.jpg\n",
      "Saved cropped plate to G:/Mi unidad/LICENSE_PLATES_RECOGITION_L&V/GITHUB_trainset_croppedimages\\2153GYX.jpg\n",
      "Saved cropped plate to G:/Mi unidad/LICENSE_PLATES_RECOGITION_L&V/GITHUB_trainset_croppedimages\\8787MHC.jpg\n",
      "Saved cropped plate to G:/Mi unidad/LICENSE_PLATES_RECOGITION_L&V/GITHUB_trainset_croppedimages\\8033MLP.jpg\n",
      "Saved cropped plate to G:/Mi unidad/LICENSE_PLATES_RECOGITION_L&V/GITHUB_trainset_croppedimages\\6395LYZ.jpg\n",
      "Saved cropped plate to G:/Mi unidad/LICENSE_PLATES_RECOGITION_L&V/GITHUB_testset_croppedimages\\2748LKK.jpg\n",
      "Saved cropped plate to G:/Mi unidad/LICENSE_PLATES_RECOGITION_L&V/GITHUB_testset_croppedimages\\0332JVG.jpg\n",
      "Saved cropped plate to G:/Mi unidad/LICENSE_PLATES_RECOGITION_L&V/GITHUB_testset_croppedimages\\8219KGJ.jpg\n",
      "Saved cropped plate to G:/Mi unidad/LICENSE_PLATES_RECOGITION_L&V/GITHUB_testset_croppedimages\\7540BNK.jpg\n",
      "Saved cropped plate to G:/Mi unidad/LICENSE_PLATES_RECOGITION_L&V/GITHUB_testset_croppedimages\\6222JWN.jpg\n",
      "Saved cropped plate to G:/Mi unidad/LICENSE_PLATES_RECOGITION_L&V/GITHUB_testset_croppedimages\\4481DKX.jpg\n",
      "Saved cropped plate to G:/Mi unidad/LICENSE_PLATES_RECOGITION_L&V/GITHUB_testset_croppedimages\\4892KGG.jpg\n",
      "Saved cropped plate to G:/Mi unidad/LICENSE_PLATES_RECOGITION_L&V/GITHUB_testset_croppedimages\\2295KYJ.jpg\n",
      "Saved cropped plate to G:/Mi unidad/LICENSE_PLATES_RECOGITION_L&V/GITHUB_testset_croppedimages\\0226MPP.jpg\n",
      "Saved cropped plate to G:/Mi unidad/LICENSE_PLATES_RECOGITION_L&V/GITHUB_testset_croppedimages\\1784FHP.jpg\n",
      "Saved cropped plate to G:/Mi unidad/LICENSE_PLATES_RECOGITION_L&V/GITHUB_testset_croppedimages\\3797JZP.jpg\n",
      "Saved cropped plate to G:/Mi unidad/LICENSE_PLATES_RECOGITION_L&V/GITHUB_testset_croppedimages\\7025KXL.jpg\n",
      "Saved cropped plate to G:/Mi unidad/LICENSE_PLATES_RECOGITION_L&V/GITHUB_testset_croppedimages\\9883GTM.jpg\n",
      "Saved cropped plate to G:/Mi unidad/LICENSE_PLATES_RECOGITION_L&V/GITHUB_testset_croppedimages\\3230CGM.jpg\n",
      "Saved cropped plate to G:/Mi unidad/LICENSE_PLATES_RECOGITION_L&V/GITHUB_testset_croppedimages\\2676MBT.jpg\n",
      "Saved cropped plate to G:/Mi unidad/LICENSE_PLATES_RECOGITION_L&V/GITHUB_testset_croppedimages\\6555JRN.jpg\n",
      "Saved cropped plate to G:/Mi unidad/LICENSE_PLATES_RECOGITION_L&V/GITHUB_testset_croppedimages\\5488LKV.jpg\n",
      "Saved cropped plate to G:/Mi unidad/LICENSE_PLATES_RECOGITION_L&V/GITHUB_testset_croppedimages\\8778LVY.jpg\n",
      "Saved cropped plate to G:/Mi unidad/LICENSE_PLATES_RECOGITION_L&V/GITHUB_testset_croppedimages\\5493DHZ.jpg\n",
      "Saved cropped plate to G:/Mi unidad/LICENSE_PLATES_RECOGITION_L&V/GITHUB_testset_croppedimages\\0999MTL.jpg\n",
      "Saved cropped plate to G:/Mi unidad/LICENSE_PLATES_RECOGITION_L&V/GITHUB_testset_croppedimages\\2724KFZ.jpg\n",
      "Saved cropped plate to G:/Mi unidad/LICENSE_PLATES_RECOGITION_L&V/GITHUB_testset_croppedimages\\8727JTC.jpg\n",
      "Saved cropped plate to G:/Mi unidad/LICENSE_PLATES_RECOGITION_L&V/GITHUB_testset_croppedimages\\1556DXM.jpg\n",
      "Saved cropped plate to G:/Mi unidad/LICENSE_PLATES_RECOGITION_L&V/GITHUB_testset_croppedimages\\5796DKP.jpg\n",
      "Saved cropped plate to G:/Mi unidad/LICENSE_PLATES_RECOGITION_L&V/GITHUB_testset_croppedimages\\4470FLT.jpg\n",
      "Saved cropped plate to G:/Mi unidad/LICENSE_PLATES_RECOGITION_L&V/GITHUB_testset_croppedimages\\6861FVY.jpg\n",
      "Saved cropped plate to G:/Mi unidad/LICENSE_PLATES_RECOGITION_L&V/GITHUB_testset_croppedimages\\0225JWL.jpg\n",
      "Saved cropped plate to G:/Mi unidad/LICENSE_PLATES_RECOGITION_L&V/GITHUB_testset_croppedimages\\6230FXF.jpg\n",
      "Saved cropped plate to G:/Mi unidad/LICENSE_PLATES_RECOGITION_L&V/GITHUB_testset_croppedimages\\3161LNC.jpg\n",
      "Saved cropped plate to G:/Mi unidad/LICENSE_PLATES_RECOGITION_L&V/GITHUB_testset_croppedimages\\9078DXS.jpg\n",
      "Saved cropped plate to G:/Mi unidad/LICENSE_PLATES_RECOGITION_L&V/GITHUB_testset_croppedimages\\9603LFP.jpg\n",
      "Saved cropped plate to G:/Mi unidad/LICENSE_PLATES_RECOGITION_L&V/GITHUB_testset_croppedimages\\2841LJX.jpg\n",
      "Saved cropped plate to G:/Mi unidad/LICENSE_PLATES_RECOGITION_L&V/GITHUB_testset_croppedimages\\0425KDK.jpg\n",
      "Saved cropped plate to G:/Mi unidad/LICENSE_PLATES_RECOGITION_L&V/GITHUB_testset_croppedimages\\9247CZG.jpg\n",
      "Saved cropped plate to G:/Mi unidad/LICENSE_PLATES_RECOGITION_L&V/GITHUB_testset_croppedimages\\1062FNT.jpg\n",
      "Saved cropped plate to G:/Mi unidad/LICENSE_PLATES_RECOGITION_L&V/GITHUB_testset_croppedimages\\1612MHX.jpg\n",
      "Saved cropped plate to G:/Mi unidad/LICENSE_PLATES_RECOGITION_L&V/GITHUB_testset_croppedimages\\0804CZV.jpg\n",
      "Saved cropped plate to G:/Mi unidad/LICENSE_PLATES_RECOGITION_L&V/GITHUB_testset_croppedimages\\7318GSB.jpg\n",
      "Saved cropped plate to G:/Mi unidad/LICENSE_PLATES_RECOGITION_L&V/GITHUB_testset_croppedimages\\3975KWL.jpg\n",
      "Saved cropped plate to G:/Mi unidad/LICENSE_PLATES_RECOGITION_L&V/GITHUB_testset_croppedimages\\3099HCF.jpg\n",
      "Saved cropped plate to G:/Mi unidad/LICENSE_PLATES_RECOGITION_L&V/GITHUB_testset_croppedimages\\9063MPD.jpg\n",
      "Saved cropped plate to G:/Mi unidad/LICENSE_PLATES_RECOGITION_L&V/GITHUB_testset_croppedimages\\1599DLB.jpg\n",
      "Saved cropped plate to G:/Mi unidad/LICENSE_PLATES_RECOGITION_L&V/GITHUB_testset_croppedimages\\3214LCL.jpg\n",
      "Saved cropped plate to G:/Mi unidad/LICENSE_PLATES_RECOGITION_L&V/GITHUB_testset_croppedimages\\1498JBZ.jpg\n",
      "Saved cropped plate to G:/Mi unidad/LICENSE_PLATES_RECOGITION_L&V/GITHUB_testset_croppedimages\\2399JYV.jpg\n",
      "Saved cropped plate to G:/Mi unidad/LICENSE_PLATES_RECOGITION_L&V/GITHUB_testset_croppedimages\\8357GMB.jpg\n",
      "Saved cropped plate to G:/Mi unidad/LICENSE_PLATES_RECOGITION_L&V/GITHUB_testset_croppedimages\\7153JWD.jpg\n",
      "Saved cropped plate to G:/Mi unidad/LICENSE_PLATES_RECOGITION_L&V/GITHUB_testset_croppedimages\\7122FYJ.jpg\n",
      "Saved cropped plate to G:/Mi unidad/LICENSE_PLATES_RECOGITION_L&V/GITHUB_testset_croppedimages\\2412JBC.jpg\n",
      "Saved cropped plate to G:/Mi unidad/LICENSE_PLATES_RECOGITION_L&V/GITHUB_testset_croppedimages\\7007KFD.jpg\n",
      "Saved cropped plate to G:/Mi unidad/LICENSE_PLATES_RECOGITION_L&V/GITHUB_testset_croppedimages\\5240MNV.jpg\n",
      "Saved cropped plate to G:/Mi unidad/LICENSE_PLATES_RECOGITION_L&V/GITHUB_testset_croppedimages\\4279MHZ.jpg\n",
      "Saved cropped plate to G:/Mi unidad/LICENSE_PLATES_RECOGITION_L&V/GITHUB_testset_croppedimages\\0167KJX.jpg\n",
      "Saved cropped plate to G:/Mi unidad/LICENSE_PLATES_RECOGITION_L&V/GITHUB_testset_croppedimages\\9117HHJ.jpg\n",
      "Saved cropped plate to G:/Mi unidad/LICENSE_PLATES_RECOGITION_L&V/GITHUB_testset_croppedimages\\4960GXC.jpg\n",
      "Saved cropped plate to G:/Mi unidad/LICENSE_PLATES_RECOGITION_L&V/GITHUB_testset_croppedimages\\3660CRT.jpg\n",
      "Saved cropped plate to G:/Mi unidad/LICENSE_PLATES_RECOGITION_L&V/GITHUB_testset_croppedimages\\1061JXF.jpg\n",
      "Saved cropped plate to G:/Mi unidad/LICENSE_PLATES_RECOGITION_L&V/GITHUB_testset_croppedimages\\1287KLP.jpg\n",
      "Saved cropped plate to G:/Mi unidad/LICENSE_PLATES_RECOGITION_L&V/GITHUB_testset_croppedimages\\8123LDM.jpg\n",
      "Saved cropped plate to G:/Mi unidad/LICENSE_PLATES_RECOGITION_L&V/GITHUB_testset_croppedimages\\1877LXC.jpg\n",
      "Saved cropped plate to G:/Mi unidad/LICENSE_PLATES_RECOGITION_L&V/GITHUB_testset_croppedimages\\1426JVT.jpg\n",
      "Saved cropped plate to G:/Mi unidad/LICENSE_PLATES_RECOGITION_L&V/GITHUB_testset_croppedimages\\0492MTT.jpg\n",
      "Saved cropped plate to G:/Mi unidad/LICENSE_PLATES_RECOGITION_L&V/GITHUB_testset_croppedimages\\4887BCX.jpg\n",
      "Saved cropped plate to G:/Mi unidad/LICENSE_PLATES_RECOGITION_L&V/GITHUB_testset_croppedimages\\7550KKL.jpg\n",
      "Saved cropped plate to G:/Mi unidad/LICENSE_PLATES_RECOGITION_L&V/GITHUB_testset_croppedimages\\8239MGN.jpg\n",
      "Saved cropped plate to G:/Mi unidad/LICENSE_PLATES_RECOGITION_L&V/GITHUB_testset_croppedimages\\6929LKK.jpg\n",
      "Saved cropped plate to G:/Mi unidad/LICENSE_PLATES_RECOGITION_L&V/GITHUB_testset_croppedimages\\2552HGF.jpg\n",
      "Saved cropped plate to G:/Mi unidad/LICENSE_PLATES_RECOGITION_L&V/GITHUB_testset_croppedimages\\6740GCZ.jpg\n",
      "Saved cropped plate to G:/Mi unidad/LICENSE_PLATES_RECOGITION_L&V/GITHUB_testset_croppedimages\\9395MSB.jpg\n",
      "Saved cropped plate to G:/Mi unidad/LICENSE_PLATES_RECOGITION_L&V/GITHUB_testset_croppedimages\\1043BYB.jpg\n",
      "Saved cropped plate to G:/Mi unidad/LICENSE_PLATES_RECOGITION_L&V/GITHUB_testset_croppedimages\\2535GLK.jpg\n",
      "Saved cropped plate to G:/Mi unidad/LICENSE_PLATES_RECOGITION_L&V/GITHUB_validationset_croppedimages\\3340JMF.jpg\n",
      "Saved cropped plate to G:/Mi unidad/LICENSE_PLATES_RECOGITION_L&V/GITHUB_validationset_croppedimages\\3929GVS.jpg\n",
      "Saved cropped plate to G:/Mi unidad/LICENSE_PLATES_RECOGITION_L&V/GITHUB_validationset_croppedimages\\6692JDG.jpg\n",
      "Saved cropped plate to G:/Mi unidad/LICENSE_PLATES_RECOGITION_L&V/GITHUB_validationset_croppedimages\\3075KTD.jpg\n",
      "Saved cropped plate to G:/Mi unidad/LICENSE_PLATES_RECOGITION_L&V/GITHUB_validationset_croppedimages\\9075MDZ.jpg\n",
      "Saved cropped plate to G:/Mi unidad/LICENSE_PLATES_RECOGITION_L&V/GITHUB_validationset_croppedimages\\8212LWP.jpg\n",
      "Saved cropped plate to G:/Mi unidad/LICENSE_PLATES_RECOGITION_L&V/GITHUB_validationset_croppedimages\\8083HTW.jpg\n",
      "Saved cropped plate to G:/Mi unidad/LICENSE_PLATES_RECOGITION_L&V/GITHUB_validationset_croppedimages\\6005KFV.jpg\n",
      "Saved cropped plate to G:/Mi unidad/LICENSE_PLATES_RECOGITION_L&V/GITHUB_validationset_croppedimages\\6556KKH.jpg\n",
      "Saved cropped plate to G:/Mi unidad/LICENSE_PLATES_RECOGITION_L&V/GITHUB_validationset_croppedimages\\1414LJY.jpg\n",
      "Saved cropped plate to G:/Mi unidad/LICENSE_PLATES_RECOGITION_L&V/GITHUB_validationset_croppedimages\\6910LSM.jpg\n",
      "Saved cropped plate to G:/Mi unidad/LICENSE_PLATES_RECOGITION_L&V/GITHUB_validationset_croppedimages\\1258GBP.jpg\n",
      "Saved cropped plate to G:/Mi unidad/LICENSE_PLATES_RECOGITION_L&V/GITHUB_validationset_croppedimages\\1565HTS.jpg\n",
      "Saved cropped plate to G:/Mi unidad/LICENSE_PLATES_RECOGITION_L&V/GITHUB_validationset_croppedimages\\4146MDM.jpg\n",
      "Saved cropped plate to G:/Mi unidad/LICENSE_PLATES_RECOGITION_L&V/GITHUB_validationset_croppedimages\\4887GKX.jpg\n",
      "Saved cropped plate to G:/Mi unidad/LICENSE_PLATES_RECOGITION_L&V/GITHUB_validationset_croppedimages\\3044JMB.jpg\n",
      "Saved cropped plate to G:/Mi unidad/LICENSE_PLATES_RECOGITION_L&V/GITHUB_validationset_croppedimages\\5215HSH.jpg\n",
      "Saved cropped plate to G:/Mi unidad/LICENSE_PLATES_RECOGITION_L&V/GITHUB_validationset_croppedimages\\4077LKM.jpg\n",
      "Saved cropped plate to G:/Mi unidad/LICENSE_PLATES_RECOGITION_L&V/GITHUB_validationset_croppedimages\\4812GTX.jpg\n",
      "Saved cropped plate to G:/Mi unidad/LICENSE_PLATES_RECOGITION_L&V/GITHUB_validationset_croppedimages\\4373KYG.jpg\n",
      "Saved cropped plate to G:/Mi unidad/LICENSE_PLATES_RECOGITION_L&V/GITHUB_validationset_croppedimages\\9869KST.jpg\n",
      "Saved cropped plate to G:/Mi unidad/LICENSE_PLATES_RECOGITION_L&V/GITHUB_validationset_croppedimages\\2885BKJ.jpg\n",
      "Saved cropped plate to G:/Mi unidad/LICENSE_PLATES_RECOGITION_L&V/GITHUB_validationset_croppedimages\\1125KDR.jpg\n",
      "Saved cropped plate to G:/Mi unidad/LICENSE_PLATES_RECOGITION_L&V/GITHUB_validationset_croppedimages\\7254LJJ.jpg\n"
     ]
    }
   ],
   "source": [
    "\"\"\"save_folder = 'G:/Mi unidad/LICENSE_PLATES_RECOGITION_L&V/GITHUB_trainset_croppedimages'\n",
    "fl.display_and_save_cropped_plates(cropped_plates_train_2, save_folder)\n",
    "save_folder = 'G:/Mi unidad/LICENSE_PLATES_RECOGITION_L&V/GITHUB_testset_croppedimages'\n",
    "fl.display_and_save_cropped_plates(cropped_plates_train_3, save_folder)\n",
    "save_folder = 'G:/Mi unidad/LICENSE_PLATES_RECOGITION_L&V/GITHUB_validationset_croppedimages'\n",
    "fl.display_and_save_cropped_plates(cropped_plates_train_4, save_folder)\"\"\""
   ]
  },
  {
   "cell_type": "markdown",
   "metadata": {},
   "source": [
    "# TRAINING MODELS (character detection)"
   ]
  },
  {
   "cell_type": "markdown",
   "metadata": {},
   "source": [
    "## SVC MODEL "
   ]
  },
  {
   "cell_type": "code",
   "execution_count": 3,
   "metadata": {},
   "outputs": [
    {
     "name": "stdout",
     "output_type": "stream",
     "text": [
      "Test Accuracy: 87.21%\n"
     ]
    }
   ],
   "source": [
    "base_path_lara = 'G:/Mi unidad/LICENSE_PLATES_RECOGITION_L&V/Dataset Characters'\n",
    "accuracy, clf, scaler, label_encoder = svc.train_svm_and_get_accuracy(base_path_lara)\n",
    "print(f\"Test Accuracy: {accuracy * 100:.2f}%\")"
   ]
  },
  {
   "cell_type": "markdown",
   "metadata": {},
   "source": [
    "## CNN MODEL"
   ]
  },
  {
   "cell_type": "code",
   "execution_count": 4,
   "metadata": {},
   "outputs": [
    {
     "name": "stdout",
     "output_type": "stream",
     "text": [
      "Epoch [1/30], Loss: 3.567791700363159\n",
      "Epoch [2/30], Loss: 3.2217656915838067\n",
      "Epoch [3/30], Loss: 2.6013115644454956\n",
      "Epoch [4/30], Loss: 1.6976417628201572\n",
      "Epoch [5/30], Loss: 1.1486668315800754\n",
      "Epoch [6/30], Loss: 0.7370937331156298\n",
      "Epoch [7/30], Loss: 0.5076939571987499\n",
      "Epoch [8/30], Loss: 0.29496600140224805\n",
      "Epoch [9/30], Loss: 0.22657926617698235\n",
      "Epoch [10/30], Loss: 0.1764775270765478\n",
      "Epoch [11/30], Loss: 0.13025157864798198\n",
      "Epoch [12/30], Loss: 0.10455228930169885\n",
      "Epoch [13/30], Loss: 0.1041620077395981\n",
      "Epoch [14/30], Loss: 0.11042351817542856\n",
      "Epoch [15/30], Loss: 0.08562502171844244\n",
      "Epoch [16/30], Loss: 0.051723278550939125\n",
      "Epoch [17/30], Loss: 0.03149224948984655\n",
      "Epoch [18/30], Loss: 0.03510911119255153\n",
      "Epoch [19/30], Loss: 0.041666312122040174\n",
      "Epoch [20/30], Loss: 0.04507654456591064\n",
      "Epoch [21/30], Loss: 0.033383555128239095\n",
      "Epoch [22/30], Loss: 0.04960223691622642\n",
      "Epoch [23/30], Loss: 0.0366290811533955\n",
      "Epoch [24/30], Loss: 0.040401718663898384\n",
      "Epoch [25/30], Loss: 0.04038031352683902\n",
      "Epoch [26/30], Loss: 0.027023019290275195\n",
      "Epoch [27/30], Loss: 0.029868188060142777\n",
      "Epoch [28/30], Loss: 0.053372504390691494\n",
      "Epoch [29/30], Loss: 0.030264683533459902\n",
      "Epoch [30/30], Loss: 0.02105964011174034\n",
      "Finished Training\n",
      "Test Accuracy: 91.86046511627907%\n"
     ]
    }
   ],
   "source": [
    "transform = transforms.Compose([\n",
    "    transforms.Grayscale(num_output_channels=1),  \n",
    "    transforms.Resize((28, 28)),                 \n",
    "    transforms.ToTensor(),                        \n",
    "    transforms.Normalize((0.5,), (0.5,))         \n",
    "])\n",
    "\n",
    "dataset = ImageFolder(root= base_path_lara, transform=transform)\n",
    "\n",
    "train_size = int(0.8 * len(dataset))\n",
    "test_size = len(dataset) - train_size\n",
    "train_dataset, test_dataset = random_split(dataset, [train_size, test_size])\n",
    "\n",
    "train_loader = DataLoader(train_dataset, batch_size=32, shuffle=True)\n",
    "test_loader = DataLoader(test_dataset, batch_size=32, shuffle=False)\n",
    "\n",
    "#print(f\"Classes: {dataset.classes}\")\n",
    "\n",
    "num_classes = len(dataset.classes)\n",
    "model = cnn.CNNModel(num_classes)\n",
    "\n",
    "criterion = cnn.nn.CrossEntropyLoss() \n",
    "optimizer = cnn.optim.Adam(model.parameters(), lr=0.001)\n",
    "\n",
    "model.to(cnn.device)\n",
    "\n",
    "cnn.train_model(model, train_loader, criterion, optimizer, num_epochs=30)\n",
    "cnn.evaluate_model(model,test_loader)"
   ]
  },
  {
   "cell_type": "markdown",
   "metadata": {},
   "source": [
    "# RESULTS (own data)"
   ]
  },
  {
   "cell_type": "markdown",
   "metadata": {},
   "source": [
    "## TRAINING RESULTS"
   ]
  },
  {
   "cell_type": "code",
   "execution_count": null,
   "metadata": {},
   "outputs": [],
   "source": [
    "\"\"\"pc_lara = 'G:/Mi unidad/LICENSE_PLATES_RECOGITION_L&V/GITHUB_trainset_croppedimages'\n",
    "# Define directories for saving Spanish and non-Spanish results\n",
    "spanish_dir = \"G:/Mi unidad/LICENSE_PLATES_RECOGITION_L&V/Results_Spain (TRAIN)\"\n",
    "non_spanish_dir = \"G:/Mi unidad/LICENSE_PLATES_RECOGITION_L&V/Results_Rest (TRAIN)\"\n",
    "\n",
    "predict_train_svc = []\n",
    "predict_train_svc_filter = []\n",
    "predict_train_cnn = []\n",
    "predict_train_cnn_filter = []\n",
    "predict_train_ocr = []\n",
    "predict_train_ocr_filter = []\n",
    "c = 0\n",
    "\n",
    "# Create directories if they don't exist\n",
    "os.makedirs(spanish_dir, exist_ok=True)\n",
    "os.makedirs(non_spanish_dir, exist_ok=True)\n",
    "\n",
    "# Loop over the image files\n",
    "for image_file in os.listdir(pc_lara):\n",
    "        if image_file.endswith('.jpg'):  # Ensure we're processing image files only\n",
    "            image_path = os.path.join(pc_lara, image_file)\n",
    "            image = cv2.imread(image_path)\n",
    "            car = image.copy()\n",
    "            if os.path.exists(spanish_dir):\n",
    "                c+=1\n",
    "                print(f\"Result image for {image_file} already exists. Skipping...\")\n",
    "                continue  # Skip to the next image if the result already exists\n",
    "\n",
    "            # SEGMENTATION CHARACTERS------------------------------------------\n",
    "            # METHOD 1\n",
    "            m1_chars = r.segment_characters(image)\n",
    "            r.visualize_char(m1_chars)\n",
    "\n",
    "            # METHOD 2\n",
    "            upscaled_license_plate, m2_chars = r.OCR_image(\n",
    "                license_plate=image, t=180, min_h=80, min_w=20, min_ar=0.2, max_ar=1.4, area=6000)\n",
    "\n",
    "            # Choose the best method\n",
    "            best_char = r.best_segmentation_method(m1_chars, m2_chars)\n",
    "\n",
    "            #SAVE CHARACTERS IF WELL-SEGMENTED TO INCREASE THE DATASET (only trainset images)\n",
    "            #for i in range(len(characters)):\n",
    "            #save the files to expand the dataset\n",
    "            #output_path = os.path.join(\"G:/Mi unidad/LICENSE_PLATES_RECOGITION_L&V/Dataset Characters\", f'caracter_{i}.png')\n",
    "            #cv2.imwrite(output_path, characters[i])\n",
    "            \n",
    "            # PREDICTION MODELS------------------------------------------\n",
    "            plate_sol = svc.test_preprocessed_images_with_plot(clf, scaler, best_char, label_encoder)\n",
    "            predict_train_svc.append(plate_sol)\n",
    "            label_encoder = LabelEncoder()\n",
    "            label_encoder.fit(dataset.classes)  \n",
    "            predicted_plate = cnn.predict_characters(model, best_char, label_encoder)\n",
    "            predict_train_cnn.append(predicted_plate)\n",
    "            license_plate_text = r.easy_ocr_method(upscaled_license_plate)\n",
    "            predict_train_ocr.append(license_plate_text)\n",
    "\n",
    "            fig, axes = plt.subplots(1, 3, figsize=(15, 5))  \n",
    "            \n",
    "            filter_plate_svc = r.filter_spain_plates(plate_sol)\n",
    "            predict_train_svc_filter.append(filter_plate_svc)\n",
    "            filter_plate_cnn = r.filter_spain_plates(predicted_plate)\n",
    "            predict_train_cnn_filter.append(filter_plate_cnn)\n",
    "            filter_plate_ocr = r.filter_spain_plates(license_plate_text)\n",
    "            predict_train_ocr_filter.append(filter_plate_ocr)\n",
    "\n",
    "            axes[0].set_title(f\"SVM Prediction: {plate_sol}\\nFiltered: {filter_plate_svc}\")\n",
    "            axes[1].set_title(f\"CNN Prediction: {predicted_plate}\\nFiltered: {filter_plate_cnn}\")\n",
    "            axes[2].set_title(f\"EasyOCR Prediction: {license_plate_text}\\nFiltered: {filter_plate_ocr}\")\n",
    "\n",
    "            save_dir = spanish_dir \n",
    "\n",
    "            axes[0].imshow(car, cmap='gray')\n",
    "            axes[0].axis('off')\n",
    "\n",
    "            axes[1].imshow(car, cmap='gray')\n",
    "            axes[1].axis('off')\n",
    "\n",
    "            axes[2].imshow(car, cmap='gray')\n",
    "            axes[2].axis('off')\n",
    "\n",
    "            plt.tight_layout()\n",
    "\n",
    "            # Save the image with a relevant name in the correct folder\n",
    "            result_image_path = os.path.join(save_dir, f'{os.path.splitext(image_file)[0]}.png')\n",
    "            plt.savefig(result_image_path)\n",
    "            plt.close()\"\"\""
   ]
  },
  {
   "cell_type": "markdown",
   "metadata": {},
   "source": [
    "## TEST RESULTS"
   ]
  },
  {
   "cell_type": "code",
   "execution_count": null,
   "metadata": {},
   "outputs": [],
   "source": [
    "\"\"\"pc_lara = 'G:/Mi unidad/LICENSE_PLATES_RECOGITION_L&V/GITHUB_testset_croppedimages'\n",
    "spanish_dir = \"G:/Mi unidad/LICENSE_PLATES_RECOGITION_L&V/Results_Spain (TEST)\"\n",
    "non_spanish_dir = \"G:/Mi unidad/LICENSE_PLATES_RECOGITION_L&V/Results_Rest (TEST)\"\n",
    "\n",
    "predict_test_svc = []\n",
    "predict_test_svc_filter = []\n",
    "predict_test_cnn = []\n",
    "predict_test_cnn_filter = []\n",
    "predict_test_ocr = []\n",
    "predict_test_ocr_filter = []\n",
    "\n",
    "# Create directories if they don't exist\n",
    "os.makedirs(spanish_dir, exist_ok=True)\n",
    "os.makedirs(non_spanish_dir, exist_ok=True)\n",
    "\n",
    "# Loop over the image files\n",
    "for image_file in os.listdir(pc_lara):\n",
    "    if image_file.endswith('.jpg'):  # Ensure we're processing image files only\n",
    "        image_path = os.path.join(pc_lara, image_file)\n",
    "        image = cv2.imread(image_path)\n",
    "        car = image.copy()\n",
    "\n",
    "        # SEGMENTATION CHARACTERS------------------------------------------\n",
    "        # METHOD 1\n",
    "        m1_chars = r.segment_characters(image)\n",
    "        r.visualize_char(m1_chars)\n",
    "\n",
    "        # METHOD 2\n",
    "        upscaled_license_plate, m2_chars = r.OCR_image(\n",
    "            license_plate=image, t=180, min_h=80, min_w=20, min_ar=0.2, max_ar=1.4, area=6000)\n",
    "\n",
    "        # Choose the best method\n",
    "        best_char = r.best_segmentation_method(m1_chars, m2_chars)\n",
    "\n",
    "        # PREDICTION MODELS------------------------------------------\n",
    "        plate_sol = svc.test_preprocessed_images_with_plot(clf, scaler, best_char, label_encoder)\n",
    "        predict_test_svc.append(plate_sol)\n",
    "        label_encoder = LabelEncoder()\n",
    "        label_encoder.fit(dataset.classes)  \n",
    "        predicted_plate = cnn.predict_characters(model, best_char, label_encoder)\n",
    "        predict_test_cnn.append(predicted_plate)\n",
    "        license_plate_text = r.easy_ocr_method(upscaled_license_plate)\n",
    "        predict_test_ocr.append(license_plate_text)\n",
    "\n",
    "        # Ask if the plate is Spanish\n",
    "        spain = input(\"Is it a Spanish plate?: \")\n",
    "\n",
    "        # Create the figure and axes for plotting\n",
    "        fig, axes = plt.subplots(1, 3, figsize=(15, 5))  \n",
    "        \n",
    "        if spain.upper() == \"Y\":\n",
    "            # Filter for Spanish plates\n",
    "            filter_plate_svc = r.filter_spain_plates(plate_sol)\n",
    "            predict_test_svc_filter.append(filter_plate_svc)\n",
    "            filter_plate_cnn = r.filter_spain_plates(predicted_plate)\n",
    "            predict_test_cnn_filter.append(filter_plate_cnn)\n",
    "            filter_plate_ocr = r.filter_spain_plates(license_plate_text)\n",
    "            predict_test_ocr_filter.append(filter_plate_ocr)\n",
    "\n",
    "            # Update titles to include filtered predictions\n",
    "            axes[0].set_title(f\"SVM Prediction: {plate_sol}\\nFiltered: {filter_plate_svc}\")\n",
    "            axes[1].set_title(f\"CNN Prediction: {predicted_plate}\\nFiltered: {filter_plate_cnn}\")\n",
    "            axes[2].set_title(f\"EasyOCR Prediction: {license_plate_text}\\nFiltered: {filter_plate_ocr}\")\n",
    "\n",
    "            save_dir = spanish_dir  # Save results in the Spanish folder\n",
    "\n",
    "        else:\n",
    "            # No filtering for non-Spanish plates\n",
    "            axes[0].set_title(f\"SVM Prediction: {plate_sol}\")\n",
    "            axes[1].set_title(f\"CNN Prediction: {predicted_plate}\")\n",
    "            axes[2].set_title(f\"EasyOCR Prediction: {license_plate_text}\")\n",
    "\n",
    "            save_dir = non_spanish_dir  # Save results in the non-Spanish folder\n",
    "\n",
    "        # Plot the car image with the respective titles\n",
    "        axes[0].imshow(car, cmap='gray')\n",
    "        axes[0].axis('off')\n",
    "\n",
    "        axes[1].imshow(car, cmap='gray')\n",
    "        axes[1].axis('off')\n",
    "\n",
    "        axes[2].imshow(car, cmap='gray')\n",
    "        axes[2].axis('off')\n",
    "\n",
    "        plt.tight_layout()\n",
    "\n",
    "        # Save the image with a relevant name in the correct folder\n",
    "        result_image_path = os.path.join(save_dir, f'{os.path.splitext(image_file)[0]}.png')\n",
    "        plt.savefig(result_image_path)\n",
    "        plt.close()\n",
    "\"\"\""
   ]
  },
  {
   "cell_type": "markdown",
   "metadata": {},
   "source": [
    "## VALIDATION RESULTS"
   ]
  },
  {
   "cell_type": "code",
   "execution_count": null,
   "metadata": {},
   "outputs": [],
   "source": [
    "\"\"\"pc_lara = 'G:/Mi unidad/LICENSE_PLATES_RECOGITION_L&V/GITHUB_validationset_croppedimages'\n",
    "spanish_dir = \"G:/Mi unidad/LICENSE_PLATES_RECOGITION_L&V/Results_Spain (VALIDATION)\"\n",
    "non_spanish_dir = \"G:/Mi unidad/LICENSE_PLATES_RECOGITION_L&V/Results_Rest (VALIDATION)\"\n",
    "\n",
    "predict_validation_svc = []\n",
    "predict_validation_svc_filter = []\n",
    "predict_validation_cnn = []\n",
    "predict_validation_cnn_filter = []\n",
    "predict_validation_ocr = []\n",
    "predict_validation_ocr_filter = []\n",
    "\n",
    "# Create directories if they don't exist\n",
    "os.makedirs(spanish_dir, exist_ok=True)\n",
    "os.makedirs(non_spanish_dir, exist_ok=True)\n",
    "\n",
    "# Loop over the image files\n",
    "for image_file in os.listdir(pc_lara):\n",
    "    if image_file.endswith('.jpg'):  # Ensure we're processing image files only\n",
    "        image_path = os.path.join(pc_lara, image_file)\n",
    "        image = cv2.imread(image_path)\n",
    "        car = image.copy()\n",
    "\n",
    "        # SEGMENTATION CHARACTERS------------------------------------------\n",
    "        # METHOD 1\n",
    "        m1_chars = r.segment_characters(image)\n",
    "        r.visualize_char(m1_chars)\n",
    "\n",
    "        # METHOD 2\n",
    "        upscaled_license_plate, m2_chars = r.OCR_image(\n",
    "            license_plate=image, t=180, min_h=80, min_w=20, min_ar=0.2, max_ar=1.4, area=6000)\n",
    "\n",
    "        # Choose the best method\n",
    "        best_char = r.best_segmentation_method(m1_chars, m2_chars)\n",
    "\n",
    "        # PREDICTION MODELS------------------------------------------\n",
    "        plate_sol = svc.test_preprocessed_images_with_plot(clf, scaler, best_char, label_encoder)\n",
    "        predict_validation_svc.append(plate_sol)\n",
    "        label_encoder = LabelEncoder()\n",
    "        label_encoder.fit(dataset.classes)  \n",
    "        predicted_plate = cnn.predict_characters(model, best_char, label_encoder)\n",
    "        predict_validation_cnn.append(predicted_plate)\n",
    "        license_plate_text = r.easy_ocr_method(upscaled_license_plate)\n",
    "        predict_validation_ocr.append(license_plate_text)\n",
    "\n",
    "        # Ask if the plate is Spanish\n",
    "        spain = input(\"Is it a Spanish plate?: \")\n",
    "\n",
    "        # Create the figure and axes for plotting\n",
    "        fig, axes = plt.subplots(1, 3, figsize=(15, 5))  \n",
    "        \n",
    "        if spain.upper() == \"Y\":\n",
    "            # Filter for Spanish plates\n",
    "            filter_plate_svc = r.filter_spain_plates(plate_sol)\n",
    "            predict_validation_svc_filter.append(filter_plate_svc)\n",
    "            filter_plate_cnn = r.filter_spain_plates(predicted_plate)\n",
    "            predict_validation_cnn_filter.append(filter_plate_cnn)\n",
    "            filter_plate_ocr = r.filter_spain_plates(license_plate_text)\n",
    "            predict_validation_ocr_filter.append(filter_plate_ocr)\n",
    "\n",
    "            # Update titles to include filtered predictions\n",
    "            axes[0].set_title(f\"SVM Prediction: {plate_sol}\\nFiltered: {filter_plate_svc}\")\n",
    "            axes[1].set_title(f\"CNN Prediction: {predicted_plate}\\nFiltered: {filter_plate_cnn}\")\n",
    "            axes[2].set_title(f\"EasyOCR Prediction: {license_plate_text}\\nFiltered: {filter_plate_ocr}\")\n",
    "\n",
    "            save_dir = spanish_dir  # Save results in the Spanish folder\n",
    "\n",
    "        else:\n",
    "            # No filtering for non-Spanish plates\n",
    "            axes[0].set_title(f\"SVM Prediction: {plate_sol}\")\n",
    "            axes[1].set_title(f\"CNN Prediction: {predicted_plate}\")\n",
    "            axes[2].set_title(f\"EasyOCR Prediction: {license_plate_text}\")\n",
    "\n",
    "            save_dir = non_spanish_dir  # Save results in the non-Spanish folder\n",
    "\n",
    "        # Plot the car image with the respective titles\n",
    "        axes[0].imshow(car, cmap='gray')\n",
    "        axes[0].axis('off')\n",
    "\n",
    "        axes[1].imshow(car, cmap='gray')\n",
    "        axes[1].axis('off')\n",
    "\n",
    "        axes[2].imshow(car, cmap='gray')\n",
    "        axes[2].axis('off')\n",
    "\n",
    "        plt.tight_layout()\n",
    "\n",
    "        # Save the image with a relevant name in the correct folder\n",
    "        result_image_path = os.path.join(save_dir, f'{os.path.splitext(image_file)[0]}.png')\n",
    "        plt.savefig(result_image_path)\n",
    "        plt.close()\n",
    "\"\"\""
   ]
  },
  {
   "cell_type": "markdown",
   "metadata": {},
   "source": [
    "#### SAVE LIST OF OUTPUTS"
   ]
  },
  {
   "cell_type": "code",
   "execution_count": 13,
   "metadata": {},
   "outputs": [],
   "source": [
    "\"\"\"# Function to save lists to txt file\n",
    "def save_list_to_txt(list_data, file_path):\n",
    "    with open(file_path, 'w') as f:\n",
    "        for item in list_data:\n",
    "            f.write(f\"{item}\\n\")  \n",
    "\n",
    "svc_predictions_path_validation = \"G:/Mi unidad/LICENSE_PLATES_RECOGITION_L&V/svc_predictions_validation.txt\"\n",
    "cnn_predictions_path_validation = \"G:/Mi unidad/LICENSE_PLATES_RECOGITION_L&V/cnn_predictions_validation.txt\"\n",
    "ocr_predictions_path_validation = \"G:/Mi unidad/LICENSE_PLATES_RECOGITION_L&V/ocr_predictions_validation.txt\"\n",
    "\n",
    "svc_filtered_path_validation = \"G:/Mi unidad/LICENSE_PLATES_RECOGITION_L&V/svc_filtered_validation.txt\"\n",
    "cnn_filtered_path_validation = \"G:/Mi unidad/LICENSE_PLATES_RECOGITION_L&V/cnn_filtered_validation.txt\"\n",
    "ocr_filtered_path_validation = \"G:/Mi unidad/LICENSE_PLATES_RECOGITION_L&V/ocr_filtered_validation.txt\"\n",
    "\n",
    "save_list_to_txt(predict_validation_svc, svc_predictions_path_validation)\n",
    "save_list_to_txt(predict_validation_cnn, cnn_predictions_path_validation)\n",
    "save_list_to_txt(predict_validation_ocr, ocr_predictions_path_validation)\n",
    "\n",
    "# Guardar predicciones filtradas para placas españolas\n",
    "save_list_to_txt(predict_validation_svc_filter, svc_filtered_path_validation)\n",
    "save_list_to_txt(predict_validation_cnn_filter, cnn_filtered_path_validation)\n",
    "save_list_to_txt(predict_validation_ocr_filter, ocr_filtered_path_validation)\"\"\""
   ]
  },
  {
   "cell_type": "markdown",
   "metadata": {},
   "source": [
    "# EVALUATING MODELS"
   ]
  },
  {
   "cell_type": "markdown",
   "metadata": {},
   "source": [
    "## Training"
   ]
  },
  {
   "cell_type": "markdown",
   "metadata": {},
   "source": [
    "#### Add recall, precision, f1-score (falta) + plots"
   ]
  },
  {
   "cell_type": "code",
   "execution_count": 3,
   "metadata": {},
   "outputs": [
    {
     "name": "stdout",
     "output_type": "stream",
     "text": [
      "SVM_FILTER:\n",
      "Total Characters Matched: 246\n",
      "Total Unmatched Characters: 246\n",
      "\n",
      "\n",
      "CNN_FILTER:\n",
      "Total Characters Matched: 275\n",
      "Total Unmatched Characters: 225\n",
      "\n",
      "\n",
      "OCR_FILTER:\n",
      "Total Characters Matched: 121\n",
      "Total Unmatched Characters: 708\n",
      "\n",
      "\n",
      "SVM_FILTER:\n",
      "Total Characters Matched: 291\n",
      "Total Unmatched Characters: 140\n",
      "\n",
      "\n",
      "CNN_FILTER:\n",
      "Total Characters Matched: 342\n",
      "Total Unmatched Characters: 119\n",
      "\n",
      "\n",
      "OCR_FILTER:\n",
      "Total Characters Matched: 256\n",
      "Total Unmatched Characters: 448\n"
     ]
    },
    {
     "data": {
      "image/png": "[encoded data removed]",
      "text/plain": [
       "<Figure size 640x480 with 1 Axes>"
      ]
     },
     "metadata": {},
     "output_type": "display_data"
    }
   ],
   "source": [
    "image_dir = 'G:/Mi unidad/LICENSE_PLATES_RECOGITION_L&V/GITHUB_trainset_croppedimages'  \n",
    "svm_txt = 'G:/Mi unidad/LICENSE_PLATES_RECOGITION_L&V/svc_predictions.txt'  \n",
    "cnn_txt = 'G:/Mi unidad/LICENSE_PLATES_RECOGITION_L&V/cnn_predictions.txt' \n",
    "ocr_txt = 'G:/Mi unidad/LICENSE_PLATES_RECOGITION_L&V/ocr_predictions.txt'  \n",
    "svm_txt_filter = 'G:/Mi unidad/LICENSE_PLATES_RECOGITION_L&V/svc_filtered.txt'  \n",
    "cnn_txt_filter = 'G:/Mi unidad/LICENSE_PLATES_RECOGITION_L&V/cnn_filtered.txt'  \n",
    "ocr_txt_filter = 'G:/Mi unidad/LICENSE_PLATES_RECOGITION_L&V/ocr_filtered.txt'  \n",
    "\n",
    "v.run_evaluation_with_filenames(image_dir, svm_txt, cnn_txt, ocr_txt, svm_txt_filter, cnn_txt_filter, ocr_txt_filter)"
   ]
  },
  {
   "cell_type": "markdown",
   "metadata": {},
   "source": [
    "## Testing"
   ]
  },
  {
   "cell_type": "code",
   "execution_count": 4,
   "metadata": {},
   "outputs": [
    {
     "name": "stdout",
     "output_type": "stream",
     "text": [
      "SVM_FILTER:\n",
      "Total Characters Matched: 137\n",
      "Total Unmatched Characters: 94\n",
      "\n",
      "\n",
      "CNN_FILTER:\n",
      "Total Characters Matched: 135\n",
      "Total Unmatched Characters: 94\n",
      "\n",
      "\n",
      "OCR_FILTER:\n",
      "Total Characters Matched: 68\n",
      "Total Unmatched Characters: 378\n",
      "\n",
      "\n",
      "SVM_FILTER:\n",
      "Total Characters Matched: 143\n",
      "Total Unmatched Characters: 56\n",
      "\n",
      "\n",
      "CNN_FILTER:\n",
      "Total Characters Matched: 142\n",
      "Total Unmatched Characters: 63\n",
      "\n",
      "\n",
      "OCR_FILTER:\n",
      "Total Characters Matched: 143\n",
      "Total Unmatched Characters: 196\n"
     ]
    },
    {
     "data": {
      "image/png": "[encoded data removed]",
      "text/plain": [
       "<Figure size 640x480 with 1 Axes>"
      ]
     },
     "metadata": {},
     "output_type": "display_data"
    }
   ],
   "source": [
    "image_dir_test = 'G:/Mi unidad/LICENSE_PLATES_RECOGITION_L&V/GITHUB_testset_croppedimages'  \n",
    "svm_txt_test = 'G:/Mi unidad/LICENSE_PLATES_RECOGITION_L&V/svc_predictions_test.txt'  \n",
    "cnn_txt_test = 'G:/Mi unidad/LICENSE_PLATES_RECOGITION_L&V/cnn_predictions_test.txt' \n",
    "ocr_txt_test = 'G:/Mi unidad/LICENSE_PLATES_RECOGITION_L&V/ocr_predictions_test.txt'  \n",
    "svm_txt_filter_test = 'G:/Mi unidad/LICENSE_PLATES_RECOGITION_L&V/svc_filtered_test.txt'  \n",
    "cnn_txt_filter_test = 'G:/Mi unidad/LICENSE_PLATES_RECOGITION_L&V/cnn_filtered_test.txt'  \n",
    "ocr_txt_filter_test = 'G:/Mi unidad/LICENSE_PLATES_RECOGITION_L&V/ocr_filtered_test.txt'  \n",
    "\n",
    "v.run_evaluation_with_filenames(image_dir_test, svm_txt_test, cnn_txt_test, ocr_txt_test, svm_txt_filter_test, cnn_txt_filter_test, ocr_txt_filter_test)"
   ]
  },
  {
   "cell_type": "markdown",
   "metadata": {},
   "source": [
    "## Validation"
   ]
  },
  {
   "cell_type": "code",
   "execution_count": 5,
   "metadata": {},
   "outputs": [
    {
     "name": "stdout",
     "output_type": "stream",
     "text": [
      "SVM_FILTER:\n",
      "Total Characters Matched: 42\n",
      "Total Unmatched Characters: 35\n",
      "\n",
      "\n",
      "CNN_FILTER:\n",
      "Total Characters Matched: 42\n",
      "Total Unmatched Characters: 49\n",
      "\n",
      "\n",
      "OCR_FILTER:\n",
      "Total Characters Matched: 40\n",
      "Total Unmatched Characters: 91\n",
      "\n",
      "\n",
      "SVM_FILTER:\n",
      "Total Characters Matched: 42\n",
      "Total Unmatched Characters: 35\n",
      "\n",
      "\n",
      "CNN_FILTER:\n",
      "Total Characters Matched: 56\n",
      "Total Unmatched Characters: 28\n",
      "\n",
      "\n",
      "OCR_FILTER:\n",
      "Total Characters Matched: 42\n",
      "Total Unmatched Characters: 77\n"
     ]
    },
    {
     "data": {
      "image/png": "[encoded data removed]",
      "text/plain": [
       "<Figure size 640x480 with 1 Axes>"
      ]
     },
     "metadata": {},
     "output_type": "display_data"
    }
   ],
   "source": [
    "image_dir_validation = 'G:/Mi unidad/LICENSE_PLATES_RECOGITION_L&V/GITHUB_validationset_croppedimages'  \n",
    "svm_txt_validation = 'G:/Mi unidad/LICENSE_PLATES_RECOGITION_L&V/svc_predictions_validation.txt'  \n",
    "cnn_txt_validation = 'G:/Mi unidad/LICENSE_PLATES_RECOGITION_L&V/cnn_predictions_validation.txt' \n",
    "ocr_txt_validation = 'G:/Mi unidad/LICENSE_PLATES_RECOGITION_L&V/ocr_predictions_validation.txt'  \n",
    "svm_txt_filter_validation = 'G:/Mi unidad/LICENSE_PLATES_RECOGITION_L&V/svc_filtered_validation.txt'  \n",
    "cnn_txt_filter_validation = 'G:/Mi unidad/LICENSE_PLATES_RECOGITION_L&V/cnn_filtered_validation.txt'  \n",
    "ocr_txt_filter_validation = 'G:/Mi unidad/LICENSE_PLATES_RECOGITION_L&V/ocr_filtered_validation.txt'  \n",
    "\n",
    "v.run_evaluation_with_filenames(image_dir_validation, svm_txt_validation, cnn_txt_validation, ocr_txt_validation, svm_txt_validation, cnn_txt_filter_validation, ocr_txt_filter_validation)"
   ]
  },
  {
   "cell_type": "markdown",
   "metadata": {},
   "source": [
    "# API PART"
   ]
  },
  {
   "cell_type": "code",
   "execution_count": 34,
   "metadata": {},
   "outputs": [
    {
     "name": "stdout",
     "output_type": "stream",
     "text": [
      "STATE: 200\n",
      "RESPONSE: <?xml version=\"1.0\" encoding=\"utf-8\"?><soap:Envelope xmlns:soap=\"http://schemas.xmlsoap.org/soap/envelope/\" xmlns:xsi=\"http://www.w3.org/2001/XMLSchema-instance\" xmlns:xsd=\"http://www.w3.org/2001/XMLSchema\"><soap:Body><CheckSpainResponse xmlns=\"http://regcheck.org.uk\"><CheckSpainResult><vehicleJson>{\n",
      "  \"Description\": \"CITROEN C3\",\n",
      "  \"CarMake\": {\n",
      "    \"CurrentTextValue\": \"CITROEN\"\n",
      "  },\n",
      "  \"CarModel\": {\n",
      "    \"CurrentTextValue\": \"C3\"\n",
      "  },\n",
      "  \"MakeDescription\": {\n",
      "    \"CurrentTextValue\": \"CITROEN\"\n",
      "  },\n",
      "  \"ModelDescription\": {\n",
      "    \"CurrentTextValue\": \"C3\"\n",
      "  },\n",
      "  \"EngineSize\": \"1199\",\n",
      "  \"VehicleIdentificationNumber\": null,\n",
      "  \"RegistrationYear\": \"2023\",\n",
      "  \"RegistrationDate\": \"15/06/2023\",\n",
      "  \"Variation\": \"1.2 PURETECH 83 FEEL\",\n",
      "  \"Seats\": null,\n",
      "  \"VariantType\": \"Gasolina 1199 cc 5 puertas\",\n",
      "  \"VehicleType\": \"Car\",\n",
      "  \"Fuel\": \"Gasolina\",\n",
      "  \"IndicativePrice\": null,\n",
      "  \"Doors\": \"5\",\n",
      "  \"AllTerain\": null,\n",
      "  \"KType\": null,\n",
      "  \"ImageUrl\": \"http://matriculaapi.com/image.aspx/@Q0lUUk9FTiBDMw==\",\n",
      "  \"DynamicPower\": \"83.0\",\n",
      "  \"Stolen\": null\n",
      "}</vehicleJson><vehicleData><Description>CITROEN C3</Description><RegistrationYear>2023</RegistrationYear><CarMake><CurrentTextValue>CITROEN</CurrentTextValue></CarMake><CarModel>C3</CarModel><EngineSize><CurrentTextValue>1199</CurrentTextValue></EngineSize></vehicleData></CheckSpainResult></CheckSpainResponse></soap:Body></soap:Envelope>\n"
     ]
    }
   ],
   "source": [
    "#api.api_car_model(predicted_plate)"
   ]
  },
  {
   "cell_type": "markdown",
   "metadata": {},
   "source": [
    "# COUNTER CHARACTERS"
   ]
  },
  {
   "cell_type": "code",
   "execution_count": 6,
   "metadata": {},
   "outputs": [
    {
     "name": "stdout",
     "output_type": "stream",
     "text": [
      "Data has been saved to folder_counts.csv\n"
     ]
    }
   ],
   "source": [
    "path = \"G:/Mi unidad/LICENSE_PLATES_RECOGITION_L&V/Dataset Characters\"\n",
    "output_file = \"folder_counts.csv\"\n",
    "r.count_files_in_folders(path, output_file)"
   ]
  }
 ],
 "metadata": {
  "kernelspec": {
   "display_name": "deeplearning2024",
   "language": "python",
   "name": "python3"
  },
  "language_info": {
   "codemirror_mode": {
    "name": "ipython",
    "version": 3
   },
   "file_extension": ".py",
   "mimetype": "text/x-python",
   "name": "python",
   "nbconvert_exporter": "python",
   "pygments_lexer": "ipython3",
   "version": "3.12.3"
  }
 },
 "nbformat": 4,
 "nbformat_minor": 2
}
