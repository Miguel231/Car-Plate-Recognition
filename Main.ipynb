{
 "cells": [
  {
   "cell_type": "markdown",
   "metadata": {},
   "source": [
    "# IMPORTS AND FUNCTIONS"
   ]
  },
  {
   "cell_type": "code",
   "execution_count": 5,
   "metadata": {},
   "outputs": [],
   "source": [
    "import os\n",
    "import random\n",
    "import cv2\n",
    "import matplotlib.pyplot as plt\n",
    "import torchvision.transforms as transforms\n",
    "from torch.utils.data import DataLoader\n",
    "from torchvision.datasets import ImageFolder\n",
    "from torch.utils.data import DataLoader, random_split\n",
    "from sklearn.preprocessing import LabelEncoder\n",
    "import torch\n",
    "import torch.nn as nn\n",
    "import seaborn as sns\n",
    "import pandas as pd\n",
    "\n"
   ]
  },
  {
   "cell_type": "code",
   "execution_count": 6,
   "metadata": {},
   "outputs": [],
   "source": [
    "from functions_preprocessing import combine_image_folders, erase_double_images, train_test\n",
    "\n",
    "import functions_validation as v\n",
    "\n",
    "import functions_licenseplate as fl\n",
    "\n",
    "import functions_recognition as r\n",
    "\n",
    "import SVC as svc\n",
    "\n",
    "import CNN as cnn\n",
    "\n",
    "import API_car_model as api"
   ]
  },
  {
   "cell_type": "markdown",
   "metadata": {},
   "source": [
    "# PREPROCESSING DATA"
   ]
  },
  {
   "cell_type": "code",
   "execution_count": 17,
   "metadata": {},
   "outputs": [
    {
     "name": "stdout",
     "output_type": "stream",
     "text": [
      "Folder created: G:/Mi unidad/LICENSE_PLATES_RECOGITION_L&V/GITHUB_IMAGES\n"
     ]
    }
   ],
   "source": [
    "\n",
    "\"\"\"source_folders = [\n",
    "    \"G:/Mi unidad/LICENSE_PLATES_RECOGITION_L&V/Images/FOTOS MERI\",\n",
    "    \"G:/Mi unidad/LICENSE_PLATES_RECOGITION_L&V/Images/FOTOS\",\n",
    "    \"G:/Mi unidad/LICENSE_PLATES_RECOGITION_L&V/Images/FOTOS LARA\",\n",
    "    \"G:/Mi unidad/LICENSE_PLATES_RECOGITION_L&V/Images/Images (CV)/Frontal\",\n",
    "    \"G:/Mi unidad/LICENSE_PLATES_RECOGITION_L&V/Images/Images (CV)/Lateral\"\n",
    "]\n",
    "\n",
    "destination_folder = 'G:/Mi unidad/LICENSE_PLATES_RECOGITION_L&V/GITHUB_IMAGES'\n",
    "combine_image_folders(source_folders, destination_folder) #ALREADY CREATED\"\"\"\n"
   ]
  },
  {
   "cell_type": "code",
   "execution_count": 18,
   "metadata": {},
   "outputs": [
    {
     "name": "stdout",
     "output_type": "stream",
     "text": [
      "Deleted: G:/Mi unidad/LICENSE_PLATES_RECOGITION_L&V/GITHUB_IMAGES\\8970GZR (1).jpg\n",
      "Deleted: G:/Mi unidad/LICENSE_PLATES_RECOGITION_L&V/GITHUB_IMAGES\\7122FYJ (1).jpg\n",
      "Deleted: G:/Mi unidad/LICENSE_PLATES_RECOGITION_L&V/GITHUB_IMAGES\\2748LKK (1).jpg\n",
      "Deleted: G:/Mi unidad/LICENSE_PLATES_RECOGITION_L&V/GITHUB_IMAGES\\0085LND (1).jpg\n",
      "Deleted: G:/Mi unidad/LICENSE_PLATES_RECOGITION_L&V/GITHUB_IMAGES\\1139LJX (1).jpg\n",
      "Deleted: G:/Mi unidad/LICENSE_PLATES_RECOGITION_L&V/GITHUB_IMAGES\\2375KFD (1).jpg\n",
      "Deleted: G:/Mi unidad/LICENSE_PLATES_RECOGITION_L&V/GITHUB_IMAGES\\4634JKH (1).jpg\n",
      "Deleted: G:/Mi unidad/LICENSE_PLATES_RECOGITION_L&V/GITHUB_IMAGES\\4346HMW (1).jpg\n",
      "Deleted: G:/Mi unidad/LICENSE_PLATES_RECOGITION_L&V/GITHUB_IMAGES\\8033MLP (1).jpg\n",
      "Deleted: G:/Mi unidad/LICENSE_PLATES_RECOGITION_L&V/GITHUB_IMAGES\\4812GTX (1).jpg\n",
      "Deleted: G:/Mi unidad/LICENSE_PLATES_RECOGITION_L&V/GITHUB_IMAGES\\3214LCL (1).jpg\n",
      "Deleted: G:/Mi unidad/LICENSE_PLATES_RECOGITION_L&V/GITHUB_IMAGES\\7911LYX (1).jpg\n",
      "Deleted: G:/Mi unidad/LICENSE_PLATES_RECOGITION_L&V/GITHUB_IMAGES\\1258GBP (1).jpg\n",
      "Deleted: G:/Mi unidad/LICENSE_PLATES_RECOGITION_L&V/GITHUB_IMAGES\\1818GZL (1).jpg\n",
      "Deleted: G:/Mi unidad/LICENSE_PLATES_RECOGITION_L&V/GITHUB_IMAGES\\9455JKM (1).jpg\n",
      "Deleted: G:/Mi unidad/LICENSE_PLATES_RECOGITION_L&V/GITHUB_IMAGES\\6445HNP (1).jpg\n",
      "Deleted: G:/Mi unidad/LICENSE_PLATES_RECOGITION_L&V/GITHUB_IMAGES\\6011HHV (2).jpg\n",
      "Deleted: G:/Mi unidad/LICENSE_PLATES_RECOGITION_L&V/GITHUB_IMAGES\\9980GCB (1).jpg\n",
      "Deleted: G:/Mi unidad/LICENSE_PLATES_RECOGITION_L&V/GITHUB_IMAGES\\1556DXM (1).jpg\n",
      "Deleted: G:/Mi unidad/LICENSE_PLATES_RECOGITION_L&V/GITHUB_IMAGES\\6011HHV (1).jpg\n",
      "Deleted: G:/Mi unidad/LICENSE_PLATES_RECOGITION_L&V/GITHUB_IMAGES\\1681LJT (1).jpg\n",
      "Deleted: G:/Mi unidad/LICENSE_PLATES_RECOGITION_L&V/GITHUB_IMAGES\\2552HGF (1).jpg\n",
      "Deleted: G:/Mi unidad/LICENSE_PLATES_RECOGITION_L&V/GITHUB_IMAGES\\4077LKM (1).jpg\n",
      "Deleted: G:/Mi unidad/LICENSE_PLATES_RECOGITION_L&V/GITHUB_IMAGES\\4960GXC (1).jpg\n",
      "Deleted: G:/Mi unidad/LICENSE_PLATES_RECOGITION_L&V/GITHUB_IMAGES\\5498HKM (1).jpg\n",
      "Deleted: G:/Mi unidad/LICENSE_PLATES_RECOGITION_L&V/GITHUB_IMAGES\\5753GPV (1).jpg\n"
     ]
    }
   ],
   "source": [
    "\n",
    "\"\"\"folder_path = 'G:/Mi unidad/LICENSE_PLATES_RECOGITION_L&V/GITHUB_IMAGES'\n",
    "erase_double_images(folder_path)\"\"\""
   ]
  },
  {
   "cell_type": "code",
   "execution_count": 19,
   "metadata": {},
   "outputs": [
    {
     "name": "stdout",
     "output_type": "stream",
     "text": [
      "Data split complete: 144 training files, 72 testing files, 24 validation files.\n"
     ]
    }
   ],
   "source": [
    "\"\"\"source_folder = 'G:/Mi unidad/LICENSE_PLATES_RECOGITION_L&V/GITHUB_IMAGES'  \n",
    "train_folder = 'G:/Mi unidad/LICENSE_PLATES_RECOGITION_L&V/GITHUB_trainset'    \n",
    "test_folder = 'G:/Mi unidad/LICENSE_PLATES_RECOGITION_L&V/GITHUB_testset'     \n",
    "val_folder = 'G:/Mi unidad/LICENSE_PLATES_RECOGITION_L&V/GITHUB_validationset'\n",
    "# Call the train_test function to perform the split\n",
    "train_test(source_folder, train_folder, test_folder, val_folder)\"\"\"\n"
   ]
  },
  {
   "cell_type": "markdown",
   "metadata": {},
   "source": [
    "# DETECTION LICENSE PLATE"
   ]
  },
  {
   "cell_type": "markdown",
   "metadata": {},
   "source": [
    "## CROPPING USING YOLO"
   ]
  },
  {
   "cell_type": "code",
   "execution_count": 7,
   "metadata": {},
   "outputs": [],
   "source": [
    "\"\"\"image_folder_2 = 'G:/Mi unidad/LICENSE_PLATES_RECOGITION_L&V/GITHUB_trainset'\n",
    "cropped_plates_train_2 = fl.boundingbox(image_folder_2)#dictionary name plate (sequence) + croppedd image\n",
    "image_folder_3 = 'G:/Mi unidad/LICENSE_PLATES_RECOGITION_L&V/GITHUB_testset'\n",
    "cropped_plates_train_3 = fl.boundingbox(image_folder_3)#dictionary name plate (sequence) + croppedd image\n",
    "image_folder_4 = 'G:/Mi unidad/LICENSE_PLATES_RECOGITION_L&V/GITHUB_validationset'\n",
    "cropped_plates_train_4 = fl.boundingbox(image_folder_4)#dictionary name plate (sequence) + croppedd image\"\"\""
   ]
  },
  {
   "cell_type": "code",
   "execution_count": 8,
   "metadata": {},
   "outputs": [
    {
     "name": "stdout",
     "output_type": "stream",
     "text": [
      "Saved cropped plate to G:/Mi unidad/LICENSE_PLATES_RECOGITION_L&V/GITHUB_trainset_croppedimages\\1310MPK.jpg\n",
      "Saved cropped plate to G:/Mi unidad/LICENSE_PLATES_RECOGITION_L&V/GITHUB_trainset_croppedimages\\6040DLX.jpg\n",
      "Saved cropped plate to G:/Mi unidad/LICENSE_PLATES_RECOGITION_L&V/GITHUB_trainset_croppedimages\\2953JHW.jpg\n",
      "Saved cropped plate to G:/Mi unidad/LICENSE_PLATES_RECOGITION_L&V/GITHUB_trainset_croppedimages\\8384KWN.jpg\n",
      "Saved cropped plate to G:/Mi unidad/LICENSE_PLATES_RECOGITION_L&V/GITHUB_trainset_croppedimages\\5240KSW.jpg\n",
      "Saved cropped plate to G:/Mi unidad/LICENSE_PLATES_RECOGITION_L&V/GITHUB_trainset_croppedimages\\6712KPR.jpg\n",
      "Saved cropped plate to G:/Mi unidad/LICENSE_PLATES_RECOGITION_L&V/GITHUB_trainset_croppedimages\\6554BNX.jpg\n",
      "Saved cropped plate to G:/Mi unidad/LICENSE_PLATES_RECOGITION_L&V/GITHUB_trainset_croppedimages\\1339MMS.jpg\n",
      "Saved cropped plate to G:/Mi unidad/LICENSE_PLATES_RECOGITION_L&V/GITHUB_trainset_croppedimages\\9542KDC.jpg\n",
      "Saved cropped plate to G:/Mi unidad/LICENSE_PLATES_RECOGITION_L&V/GITHUB_trainset_croppedimages\\1107JND.jpg\n",
      "Saved cropped plate to G:/Mi unidad/LICENSE_PLATES_RECOGITION_L&V/GITHUB_trainset_croppedimages\\1824KYK.jpg\n",
      "Saved cropped plate to G:/Mi unidad/LICENSE_PLATES_RECOGITION_L&V/GITHUB_trainset_croppedimages\\3404KXN.jpg\n",
      "Saved cropped plate to G:/Mi unidad/LICENSE_PLATES_RECOGITION_L&V/GITHUB_trainset_croppedimages\\5172LTZ.jpg\n",
      "Saved cropped plate to G:/Mi unidad/LICENSE_PLATES_RECOGITION_L&V/GITHUB_trainset_croppedimages\\4485LZB.jpg\n",
      "Saved cropped plate to G:/Mi unidad/LICENSE_PLATES_RECOGITION_L&V/GITHUB_trainset_croppedimages\\4283DJR.jpg\n",
      "Saved cropped plate to G:/Mi unidad/LICENSE_PLATES_RECOGITION_L&V/GITHUB_trainset_croppedimages\\6000GVT.jpg\n",
      "Saved cropped plate to G:/Mi unidad/LICENSE_PLATES_RECOGITION_L&V/GITHUB_trainset_croppedimages\\6011HHV.jpg\n",
      "Saved cropped plate to G:/Mi unidad/LICENSE_PLATES_RECOGITION_L&V/GITHUB_trainset_croppedimages\\1949LLT.jpg\n",
      "Saved cropped plate to G:/Mi unidad/LICENSE_PLATES_RECOGITION_L&V/GITHUB_trainset_croppedimages\\3256HPR.jpg\n",
      "Saved cropped plate to G:/Mi unidad/LICENSE_PLATES_RECOGITION_L&V/GITHUB_trainset_croppedimages\\6445HNP.jpg\n",
      "Saved cropped plate to G:/Mi unidad/LICENSE_PLATES_RECOGITION_L&V/GITHUB_trainset_croppedimages\\9532GVC.jpg\n",
      "Saved cropped plate to G:/Mi unidad/LICENSE_PLATES_RECOGITION_L&V/GITHUB_trainset_croppedimages\\5240BFM.jpg\n",
      "Saved cropped plate to G:/Mi unidad/LICENSE_PLATES_RECOGITION_L&V/GITHUB_trainset_croppedimages\\2344KJP.jpg\n",
      "Saved cropped plate to G:/Mi unidad/LICENSE_PLATES_RECOGITION_L&V/GITHUB_trainset_croppedimages\\7746KBG.jpg\n",
      "Saved cropped plate to G:/Mi unidad/LICENSE_PLATES_RECOGITION_L&V/GITHUB_trainset_croppedimages\\2603HJF.jpg\n",
      "Saved cropped plate to G:/Mi unidad/LICENSE_PLATES_RECOGITION_L&V/GITHUB_trainset_croppedimages\\9331CRK.jpg\n",
      "Saved cropped plate to G:/Mi unidad/LICENSE_PLATES_RECOGITION_L&V/GITHUB_trainset_croppedimages\\0304FWK.jpg\n",
      "Saved cropped plate to G:/Mi unidad/LICENSE_PLATES_RECOGITION_L&V/GITHUB_trainset_croppedimages\\4900KPY.jpg\n",
      "Saved cropped plate to G:/Mi unidad/LICENSE_PLATES_RECOGITION_L&V/GITHUB_trainset_croppedimages\\5789JHB.jpg\n",
      "Saved cropped plate to G:/Mi unidad/LICENSE_PLATES_RECOGITION_L&V/GITHUB_trainset_croppedimages\\9694LWX.jpg\n",
      "Saved cropped plate to G:/Mi unidad/LICENSE_PLATES_RECOGITION_L&V/GITHUB_trainset_croppedimages\\6688KSW.jpg\n",
      "Saved cropped plate to G:/Mi unidad/LICENSE_PLATES_RECOGITION_L&V/GITHUB_trainset_croppedimages\\0907JRF.jpg\n",
      "Saved cropped plate to G:/Mi unidad/LICENSE_PLATES_RECOGITION_L&V/GITHUB_trainset_croppedimages\\0278KXW.jpg\n",
      "Saved cropped plate to G:/Mi unidad/LICENSE_PLATES_RECOGITION_L&V/GITHUB_trainset_croppedimages\\1667BTS.jpg\n",
      "Saved cropped plate to G:/Mi unidad/LICENSE_PLATES_RECOGITION_L&V/GITHUB_trainset_croppedimages\\0550HNN.jpg\n",
      "Saved cropped plate to G:/Mi unidad/LICENSE_PLATES_RECOGITION_L&V/GITHUB_trainset_croppedimages\\4346HMW.jpg\n",
      "Saved cropped plate to G:/Mi unidad/LICENSE_PLATES_RECOGITION_L&V/GITHUB_trainset_croppedimages\\1286JJG.jpg\n",
      "Saved cropped plate to G:/Mi unidad/LICENSE_PLATES_RECOGITION_L&V/GITHUB_trainset_croppedimages\\3983GVK.jpg\n",
      "Saved cropped plate to G:/Mi unidad/LICENSE_PLATES_RECOGITION_L&V/GITHUB_trainset_croppedimages\\220LNW.jpg\n",
      "Saved cropped plate to G:/Mi unidad/LICENSE_PLATES_RECOGITION_L&V/GITHUB_trainset_croppedimages\\3865GBM.jpg\n",
      "Saved cropped plate to G:/Mi unidad/LICENSE_PLATES_RECOGITION_L&V/GITHUB_trainset_croppedimages\\4674FHC.jpg\n",
      "Saved cropped plate to G:/Mi unidad/LICENSE_PLATES_RECOGITION_L&V/GITHUB_trainset_croppedimages\\3691MTY.jpg\n",
      "Saved cropped plate to G:/Mi unidad/LICENSE_PLATES_RECOGITION_L&V/GITHUB_trainset_croppedimages\\7067KSH.jpg\n",
      "Saved cropped plate to G:/Mi unidad/LICENSE_PLATES_RECOGITION_L&V/GITHUB_trainset_croppedimages\\4000GFL.jpg\n",
      "Saved cropped plate to G:/Mi unidad/LICENSE_PLATES_RECOGITION_L&V/GITHUB_trainset_croppedimages\\5361HPY.jpg\n",
      "Saved cropped plate to G:/Mi unidad/LICENSE_PLATES_RECOGITION_L&V/GITHUB_trainset_croppedimages\\4679HHB.jpg\n",
      "Saved cropped plate to G:/Mi unidad/LICENSE_PLATES_RECOGITION_L&V/GITHUB_trainset_croppedimages\\2031JPF.jpg\n",
      "Saved cropped plate to G:/Mi unidad/LICENSE_PLATES_RECOGITION_L&V/GITHUB_trainset_croppedimages\\3845GJZ.jpg\n",
      "Saved cropped plate to G:/Mi unidad/LICENSE_PLATES_RECOGITION_L&V/GITHUB_trainset_croppedimages\\7720LWN.jpg\n",
      "Saved cropped plate to G:/Mi unidad/LICENSE_PLATES_RECOGITION_L&V/GITHUB_trainset_croppedimages\\2861KXC.jpg\n",
      "Saved cropped plate to G:/Mi unidad/LICENSE_PLATES_RECOGITION_L&V/GITHUB_trainset_croppedimages\\1681LJT.jpg\n",
      "Saved cropped plate to G:/Mi unidad/LICENSE_PLATES_RECOGITION_L&V/GITHUB_trainset_croppedimages\\3963KFM.jpg\n",
      "Saved cropped plate to G:/Mi unidad/LICENSE_PLATES_RECOGITION_L&V/GITHUB_trainset_croppedimages\\8146JHT.jpg\n",
      "Saved cropped plate to G:/Mi unidad/LICENSE_PLATES_RECOGITION_L&V/GITHUB_trainset_croppedimages\\3587DCX.jpg\n",
      "Saved cropped plate to G:/Mi unidad/LICENSE_PLATES_RECOGITION_L&V/GITHUB_trainset_croppedimages\\4182KMG.jpg\n",
      "Saved cropped plate to G:/Mi unidad/LICENSE_PLATES_RECOGITION_L&V/GITHUB_trainset_croppedimages\\9892JFR.jpg\n",
      "Saved cropped plate to G:/Mi unidad/LICENSE_PLATES_RECOGITION_L&V/GITHUB_trainset_croppedimages\\7911LYX.jpg\n",
      "Saved cropped plate to G:/Mi unidad/LICENSE_PLATES_RECOGITION_L&V/GITHUB_trainset_croppedimages\\6098HMF.jpg\n",
      "Saved cropped plate to G:/Mi unidad/LICENSE_PLATES_RECOGITION_L&V/GITHUB_trainset_croppedimages\\8120GLL.jpg\n",
      "Saved cropped plate to G:/Mi unidad/LICENSE_PLATES_RECOGITION_L&V/GITHUB_trainset_croppedimages\\8555JKG.jpg\n",
      "Saved cropped plate to G:/Mi unidad/LICENSE_PLATES_RECOGITION_L&V/GITHUB_trainset_croppedimages\\7864GTX.jpg\n",
      "Saved cropped plate to G:/Mi unidad/LICENSE_PLATES_RECOGITION_L&V/GITHUB_trainset_croppedimages\\2375KFD.jpg\n",
      "Saved cropped plate to G:/Mi unidad/LICENSE_PLATES_RECOGITION_L&V/GITHUB_trainset_croppedimages\\8597FSC.jpg\n",
      "Saved cropped plate to G:/Mi unidad/LICENSE_PLATES_RECOGITION_L&V/GITHUB_trainset_croppedimages\\4634JKH.jpg\n",
      "Saved cropped plate to G:/Mi unidad/LICENSE_PLATES_RECOGITION_L&V/GITHUB_trainset_croppedimages\\5052HLJ.jpg\n",
      "Saved cropped plate to G:/Mi unidad/LICENSE_PLATES_RECOGITION_L&V/GITHUB_trainset_croppedimages\\1072FRD.jpg\n",
      "Saved cropped plate to G:/Mi unidad/LICENSE_PLATES_RECOGITION_L&V/GITHUB_trainset_croppedimages\\5133MBD.jpg\n",
      "Saved cropped plate to G:/Mi unidad/LICENSE_PLATES_RECOGITION_L&V/GITHUB_trainset_croppedimages\\6963HKS.jpg\n",
      "Saved cropped plate to G:/Mi unidad/LICENSE_PLATES_RECOGITION_L&V/GITHUB_trainset_croppedimages\\9509HGD.jpg\n",
      "Saved cropped plate to G:/Mi unidad/LICENSE_PLATES_RECOGITION_L&V/GITHUB_trainset_croppedimages\\9603MPD.jpg\n",
      "Saved cropped plate to G:/Mi unidad/LICENSE_PLATES_RECOGITION_L&V/GITHUB_trainset_croppedimages\\0161MDT.jpg\n",
      "Saved cropped plate to G:/Mi unidad/LICENSE_PLATES_RECOGITION_L&V/GITHUB_trainset_croppedimages\\5004MGB.jpg\n",
      "Saved cropped plate to G:/Mi unidad/LICENSE_PLATES_RECOGITION_L&V/GITHUB_trainset_croppedimages\\1818GZL.jpg\n",
      "Saved cropped plate to G:/Mi unidad/LICENSE_PLATES_RECOGITION_L&V/GITHUB_trainset_croppedimages\\0649DHS.jpg\n",
      "Saved cropped plate to G:/Mi unidad/LICENSE_PLATES_RECOGITION_L&V/GITHUB_trainset_croppedimages\\7963KNH.jpg\n",
      "Saved cropped plate to G:/Mi unidad/LICENSE_PLATES_RECOGITION_L&V/GITHUB_trainset_croppedimages\\2709FWH.jpg\n",
      "Saved cropped plate to G:/Mi unidad/LICENSE_PLATES_RECOGITION_L&V/GITHUB_trainset_croppedimages\\1927HDH.jpg\n",
      "Saved cropped plate to G:/Mi unidad/LICENSE_PLATES_RECOGITION_L&V/GITHUB_trainset_croppedimages\\9408CZF.jpg\n",
      "Saved cropped plate to G:/Mi unidad/LICENSE_PLATES_RECOGITION_L&V/GITHUB_trainset_croppedimages\\6775BNF.jpg\n",
      "Saved cropped plate to G:/Mi unidad/LICENSE_PLATES_RECOGITION_L&V/GITHUB_trainset_croppedimages\\0085LND.jpg\n",
      "Saved cropped plate to G:/Mi unidad/LICENSE_PLATES_RECOGITION_L&V/GITHUB_trainset_croppedimages\\0776MKK.jpg\n",
      "Saved cropped plate to G:/Mi unidad/LICENSE_PLATES_RECOGITION_L&V/GITHUB_trainset_croppedimages\\6490HTD.jpg\n",
      "Saved cropped plate to G:/Mi unidad/LICENSE_PLATES_RECOGITION_L&V/GITHUB_trainset_croppedimages\\4789HNG.jpg\n",
      "Saved cropped plate to G:/Mi unidad/LICENSE_PLATES_RECOGITION_L&V/GITHUB_trainset_croppedimages\\0195JHM.jpg\n",
      "Saved cropped plate to G:/Mi unidad/LICENSE_PLATES_RECOGITION_L&V/GITHUB_trainset_croppedimages\\3451LGB.jpg\n",
      "Saved cropped plate to G:/Mi unidad/LICENSE_PLATES_RECOGITION_L&V/GITHUB_trainset_croppedimages\\3076CCV.jpg\n",
      "Saved cropped plate to G:/Mi unidad/LICENSE_PLATES_RECOGITION_L&V/GITHUB_trainset_croppedimages\\6072HBJ.jpg\n",
      "Saved cropped plate to G:/Mi unidad/LICENSE_PLATES_RECOGITION_L&V/GITHUB_trainset_croppedimages\\1029JLW.jpg\n",
      "Saved cropped plate to G:/Mi unidad/LICENSE_PLATES_RECOGITION_L&V/GITHUB_trainset_croppedimages\\5275HGY.jpg\n",
      "Saved cropped plate to G:/Mi unidad/LICENSE_PLATES_RECOGITION_L&V/GITHUB_trainset_croppedimages\\1906HKF.jpg\n",
      "Saved cropped plate to G:/Mi unidad/LICENSE_PLATES_RECOGITION_L&V/GITHUB_trainset_croppedimages\\3845LTY.jpg\n",
      "Saved cropped plate to G:/Mi unidad/LICENSE_PLATES_RECOGITION_L&V/GITHUB_trainset_croppedimages\\B6525WY.jpg\n",
      "Saved cropped plate to G:/Mi unidad/LICENSE_PLATES_RECOGITION_L&V/GITHUB_trainset_croppedimages\\0175HDW.jpg\n",
      "Saved cropped plate to G:/Mi unidad/LICENSE_PLATES_RECOGITION_L&V/GITHUB_trainset_croppedimages\\0041LZN.jpg\n",
      "Saved cropped plate to G:/Mi unidad/LICENSE_PLATES_RECOGITION_L&V/GITHUB_trainset_croppedimages\\4449LSZ.jpg\n",
      "Saved cropped plate to G:/Mi unidad/LICENSE_PLATES_RECOGITION_L&V/GITHUB_trainset_croppedimages\\5386MKJ.jpg\n",
      "Saved cropped plate to G:/Mi unidad/LICENSE_PLATES_RECOGITION_L&V/GITHUB_trainset_croppedimages\\0114BCX.jpg\n",
      "Saved cropped plate to G:/Mi unidad/LICENSE_PLATES_RECOGITION_L&V/GITHUB_trainset_croppedimages\\0192DSP.jpg\n",
      "Saved cropped plate to G:/Mi unidad/LICENSE_PLATES_RECOGITION_L&V/GITHUB_trainset_croppedimages\\8011KHS.jpg\n",
      "Saved cropped plate to G:/Mi unidad/LICENSE_PLATES_RECOGITION_L&V/GITHUB_trainset_croppedimages\\0660JDX.jpg\n",
      "Saved cropped plate to G:/Mi unidad/LICENSE_PLATES_RECOGITION_L&V/GITHUB_trainset_croppedimages\\0182GLK.jpg\n",
      "Saved cropped plate to G:/Mi unidad/LICENSE_PLATES_RECOGITION_L&V/GITHUB_trainset_croppedimages\\2929KXJ.jpg\n",
      "Saved cropped plate to G:/Mi unidad/LICENSE_PLATES_RECOGITION_L&V/GITHUB_trainset_croppedimages\\1556GMZ.jpg\n",
      "Saved cropped plate to G:/Mi unidad/LICENSE_PLATES_RECOGITION_L&V/GITHUB_trainset_croppedimages\\4797LBD.jpg\n",
      "Saved cropped plate to G:/Mi unidad/LICENSE_PLATES_RECOGITION_L&V/GITHUB_trainset_croppedimages\\7332JKC.jpg\n",
      "Saved cropped plate to G:/Mi unidad/LICENSE_PLATES_RECOGITION_L&V/GITHUB_trainset_croppedimages\\0568MBX.jpg\n",
      "Saved cropped plate to G:/Mi unidad/LICENSE_PLATES_RECOGITION_L&V/GITHUB_trainset_croppedimages\\0129KMK.jpg\n",
      "Saved cropped plate to G:/Mi unidad/LICENSE_PLATES_RECOGITION_L&V/GITHUB_trainset_croppedimages\\3362LKY.jpg\n",
      "Saved cropped plate to G:/Mi unidad/LICENSE_PLATES_RECOGITION_L&V/GITHUB_trainset_croppedimages\\7016MLZ.jpg\n",
      "Saved cropped plate to G:/Mi unidad/LICENSE_PLATES_RECOGITION_L&V/GITHUB_trainset_croppedimages\\4080KRB.jpg\n",
      "Saved cropped plate to G:/Mi unidad/LICENSE_PLATES_RECOGITION_L&V/GITHUB_trainset_croppedimages\\5584HJL.jpg\n",
      "Saved cropped plate to G:/Mi unidad/LICENSE_PLATES_RECOGITION_L&V/GITHUB_trainset_croppedimages\\5753GPV.jpg\n",
      "Saved cropped plate to G:/Mi unidad/LICENSE_PLATES_RECOGITION_L&V/GITHUB_trainset_croppedimages\\1855MHN.jpg\n",
      "Saved cropped plate to G:/Mi unidad/LICENSE_PLATES_RECOGITION_L&V/GITHUB_trainset_croppedimages\\1111LRB.jpg\n",
      "Saved cropped plate to G:/Mi unidad/LICENSE_PLATES_RECOGITION_L&V/GITHUB_trainset_croppedimages\\5467MBS.jpg\n",
      "Saved cropped plate to G:/Mi unidad/LICENSE_PLATES_RECOGITION_L&V/GITHUB_trainset_croppedimages\\3247KZJ.jpg\n",
      "Saved cropped plate to G:/Mi unidad/LICENSE_PLATES_RECOGITION_L&V/GITHUB_trainset_croppedimages\\6888LYP.jpg\n",
      "Saved cropped plate to G:/Mi unidad/LICENSE_PLATES_RECOGITION_L&V/GITHUB_trainset_croppedimages\\8970GZR.jpg\n",
      "Saved cropped plate to G:/Mi unidad/LICENSE_PLATES_RECOGITION_L&V/GITHUB_trainset_croppedimages\\0165DXW.jpg\n",
      "Saved cropped plate to G:/Mi unidad/LICENSE_PLATES_RECOGITION_L&V/GITHUB_trainset_croppedimages\\1903HNV.jpg\n",
      "Saved cropped plate to G:/Mi unidad/LICENSE_PLATES_RECOGITION_L&V/GITHUB_trainset_croppedimages\\3497BYY.jpg\n",
      "Saved cropped plate to G:/Mi unidad/LICENSE_PLATES_RECOGITION_L&V/GITHUB_trainset_croppedimages\\2956MJG.jpg\n",
      "Saved cropped plate to G:/Mi unidad/LICENSE_PLATES_RECOGITION_L&V/GITHUB_trainset_croppedimages\\6735LHT.jpg\n",
      "Saved cropped plate to G:/Mi unidad/LICENSE_PLATES_RECOGITION_L&V/GITHUB_trainset_croppedimages\\3353FCB.jpg\n",
      "Saved cropped plate to G:/Mi unidad/LICENSE_PLATES_RECOGITION_L&V/GITHUB_trainset_croppedimages\\4125DVF.jpg\n",
      "Saved cropped plate to G:/Mi unidad/LICENSE_PLATES_RECOGITION_L&V/GITHUB_trainset_croppedimages\\8691KPN.jpg\n",
      "Saved cropped plate to G:/Mi unidad/LICENSE_PLATES_RECOGITION_L&V/GITHUB_trainset_croppedimages\\6401JBX.jpg\n",
      "Saved cropped plate to G:/Mi unidad/LICENSE_PLATES_RECOGITION_L&V/GITHUB_trainset_croppedimages\\0874LNH.jpg\n",
      "Saved cropped plate to G:/Mi unidad/LICENSE_PLATES_RECOGITION_L&V/GITHUB_trainset_croppedimages\\5934GCY.jpg\n",
      "Saved cropped plate to G:/Mi unidad/LICENSE_PLATES_RECOGITION_L&V/GITHUB_trainset_croppedimages\\5179LBS.jpg\n",
      "Saved cropped plate to G:/Mi unidad/LICENSE_PLATES_RECOGITION_L&V/GITHUB_trainset_croppedimages\\4181GWT.jpg\n",
      "Saved cropped plate to G:/Mi unidad/LICENSE_PLATES_RECOGITION_L&V/GITHUB_trainset_croppedimages\\GI3660BS.jpg\n",
      "Saved cropped plate to G:/Mi unidad/LICENSE_PLATES_RECOGITION_L&V/GITHUB_trainset_croppedimages\\5936LDW.jpg\n",
      "Saved cropped plate to G:/Mi unidad/LICENSE_PLATES_RECOGITION_L&V/GITHUB_trainset_croppedimages\\3773JLN.jpg\n",
      "Saved cropped plate to G:/Mi unidad/LICENSE_PLATES_RECOGITION_L&V/GITHUB_trainset_croppedimages\\4087KTZ.jpg\n",
      "Saved cropped plate to G:/Mi unidad/LICENSE_PLATES_RECOGITION_L&V/GITHUB_trainset_croppedimages\\1394CTX.jpg\n",
      "Saved cropped plate to G:/Mi unidad/LICENSE_PLATES_RECOGITION_L&V/GITHUB_trainset_croppedimages\\9455JKM.jpg\n",
      "Saved cropped plate to G:/Mi unidad/LICENSE_PLATES_RECOGITION_L&V/GITHUB_trainset_croppedimages\\2153GYX.jpg\n",
      "Saved cropped plate to G:/Mi unidad/LICENSE_PLATES_RECOGITION_L&V/GITHUB_trainset_croppedimages\\8787MHC.jpg\n",
      "Saved cropped plate to G:/Mi unidad/LICENSE_PLATES_RECOGITION_L&V/GITHUB_trainset_croppedimages\\8033MLP.jpg\n",
      "Saved cropped plate to G:/Mi unidad/LICENSE_PLATES_RECOGITION_L&V/GITHUB_trainset_croppedimages\\6395LYZ.jpg\n",
      "Saved cropped plate to G:/Mi unidad/LICENSE_PLATES_RECOGITION_L&V/GITHUB_testset_croppedimages\\2748LKK.jpg\n",
      "Saved cropped plate to G:/Mi unidad/LICENSE_PLATES_RECOGITION_L&V/GITHUB_testset_croppedimages\\0332JVG.jpg\n",
      "Saved cropped plate to G:/Mi unidad/LICENSE_PLATES_RECOGITION_L&V/GITHUB_testset_croppedimages\\8219KGJ.jpg\n",
      "Saved cropped plate to G:/Mi unidad/LICENSE_PLATES_RECOGITION_L&V/GITHUB_testset_croppedimages\\7540BNK.jpg\n",
      "Saved cropped plate to G:/Mi unidad/LICENSE_PLATES_RECOGITION_L&V/GITHUB_testset_croppedimages\\6222JWN.jpg\n",
      "Saved cropped plate to G:/Mi unidad/LICENSE_PLATES_RECOGITION_L&V/GITHUB_testset_croppedimages\\4481DKX.jpg\n",
      "Saved cropped plate to G:/Mi unidad/LICENSE_PLATES_RECOGITION_L&V/GITHUB_testset_croppedimages\\4892KGG.jpg\n",
      "Saved cropped plate to G:/Mi unidad/LICENSE_PLATES_RECOGITION_L&V/GITHUB_testset_croppedimages\\2295KYJ.jpg\n",
      "Saved cropped plate to G:/Mi unidad/LICENSE_PLATES_RECOGITION_L&V/GITHUB_testset_croppedimages\\0226MPP.jpg\n",
      "Saved cropped plate to G:/Mi unidad/LICENSE_PLATES_RECOGITION_L&V/GITHUB_testset_croppedimages\\1784FHP.jpg\n",
      "Saved cropped plate to G:/Mi unidad/LICENSE_PLATES_RECOGITION_L&V/GITHUB_testset_croppedimages\\3797JZP.jpg\n",
      "Saved cropped plate to G:/Mi unidad/LICENSE_PLATES_RECOGITION_L&V/GITHUB_testset_croppedimages\\7025KXL.jpg\n",
      "Saved cropped plate to G:/Mi unidad/LICENSE_PLATES_RECOGITION_L&V/GITHUB_testset_croppedimages\\9883GTM.jpg\n",
      "Saved cropped plate to G:/Mi unidad/LICENSE_PLATES_RECOGITION_L&V/GITHUB_testset_croppedimages\\3230CGM.jpg\n",
      "Saved cropped plate to G:/Mi unidad/LICENSE_PLATES_RECOGITION_L&V/GITHUB_testset_croppedimages\\2676MBT.jpg\n",
      "Saved cropped plate to G:/Mi unidad/LICENSE_PLATES_RECOGITION_L&V/GITHUB_testset_croppedimages\\6555JRN.jpg\n",
      "Saved cropped plate to G:/Mi unidad/LICENSE_PLATES_RECOGITION_L&V/GITHUB_testset_croppedimages\\5488LKV.jpg\n",
      "Saved cropped plate to G:/Mi unidad/LICENSE_PLATES_RECOGITION_L&V/GITHUB_testset_croppedimages\\8778LVY.jpg\n",
      "Saved cropped plate to G:/Mi unidad/LICENSE_PLATES_RECOGITION_L&V/GITHUB_testset_croppedimages\\5493DHZ.jpg\n",
      "Saved cropped plate to G:/Mi unidad/LICENSE_PLATES_RECOGITION_L&V/GITHUB_testset_croppedimages\\0999MTL.jpg\n",
      "Saved cropped plate to G:/Mi unidad/LICENSE_PLATES_RECOGITION_L&V/GITHUB_testset_croppedimages\\2724KFZ.jpg\n",
      "Saved cropped plate to G:/Mi unidad/LICENSE_PLATES_RECOGITION_L&V/GITHUB_testset_croppedimages\\8727JTC.jpg\n",
      "Saved cropped plate to G:/Mi unidad/LICENSE_PLATES_RECOGITION_L&V/GITHUB_testset_croppedimages\\1556DXM.jpg\n",
      "Saved cropped plate to G:/Mi unidad/LICENSE_PLATES_RECOGITION_L&V/GITHUB_testset_croppedimages\\5796DKP.jpg\n",
      "Saved cropped plate to G:/Mi unidad/LICENSE_PLATES_RECOGITION_L&V/GITHUB_testset_croppedimages\\4470FLT.jpg\n",
      "Saved cropped plate to G:/Mi unidad/LICENSE_PLATES_RECOGITION_L&V/GITHUB_testset_croppedimages\\6861FVY.jpg\n",
      "Saved cropped plate to G:/Mi unidad/LICENSE_PLATES_RECOGITION_L&V/GITHUB_testset_croppedimages\\0225JWL.jpg\n",
      "Saved cropped plate to G:/Mi unidad/LICENSE_PLATES_RECOGITION_L&V/GITHUB_testset_croppedimages\\6230FXF.jpg\n",
      "Saved cropped plate to G:/Mi unidad/LICENSE_PLATES_RECOGITION_L&V/GITHUB_testset_croppedimages\\3161LNC.jpg\n",
      "Saved cropped plate to G:/Mi unidad/LICENSE_PLATES_RECOGITION_L&V/GITHUB_testset_croppedimages\\9078DXS.jpg\n",
      "Saved cropped plate to G:/Mi unidad/LICENSE_PLATES_RECOGITION_L&V/GITHUB_testset_croppedimages\\9603LFP.jpg\n",
      "Saved cropped plate to G:/Mi unidad/LICENSE_PLATES_RECOGITION_L&V/GITHUB_testset_croppedimages\\2841LJX.jpg\n",
      "Saved cropped plate to G:/Mi unidad/LICENSE_PLATES_RECOGITION_L&V/GITHUB_testset_croppedimages\\0425KDK.jpg\n",
      "Saved cropped plate to G:/Mi unidad/LICENSE_PLATES_RECOGITION_L&V/GITHUB_testset_croppedimages\\9247CZG.jpg\n",
      "Saved cropped plate to G:/Mi unidad/LICENSE_PLATES_RECOGITION_L&V/GITHUB_testset_croppedimages\\1062FNT.jpg\n",
      "Saved cropped plate to G:/Mi unidad/LICENSE_PLATES_RECOGITION_L&V/GITHUB_testset_croppedimages\\1612MHX.jpg\n",
      "Saved cropped plate to G:/Mi unidad/LICENSE_PLATES_RECOGITION_L&V/GITHUB_testset_croppedimages\\0804CZV.jpg\n",
      "Saved cropped plate to G:/Mi unidad/LICENSE_PLATES_RECOGITION_L&V/GITHUB_testset_croppedimages\\7318GSB.jpg\n",
      "Saved cropped plate to G:/Mi unidad/LICENSE_PLATES_RECOGITION_L&V/GITHUB_testset_croppedimages\\3975KWL.jpg\n",
      "Saved cropped plate to G:/Mi unidad/LICENSE_PLATES_RECOGITION_L&V/GITHUB_testset_croppedimages\\3099HCF.jpg\n",
      "Saved cropped plate to G:/Mi unidad/LICENSE_PLATES_RECOGITION_L&V/GITHUB_testset_croppedimages\\9063MPD.jpg\n",
      "Saved cropped plate to G:/Mi unidad/LICENSE_PLATES_RECOGITION_L&V/GITHUB_testset_croppedimages\\1599DLB.jpg\n",
      "Saved cropped plate to G:/Mi unidad/LICENSE_PLATES_RECOGITION_L&V/GITHUB_testset_croppedimages\\3214LCL.jpg\n",
      "Saved cropped plate to G:/Mi unidad/LICENSE_PLATES_RECOGITION_L&V/GITHUB_testset_croppedimages\\1498JBZ.jpg\n",
      "Saved cropped plate to G:/Mi unidad/LICENSE_PLATES_RECOGITION_L&V/GITHUB_testset_croppedimages\\2399JYV.jpg\n",
      "Saved cropped plate to G:/Mi unidad/LICENSE_PLATES_RECOGITION_L&V/GITHUB_testset_croppedimages\\8357GMB.jpg\n",
      "Saved cropped plate to G:/Mi unidad/LICENSE_PLATES_RECOGITION_L&V/GITHUB_testset_croppedimages\\7153JWD.jpg\n",
      "Saved cropped plate to G:/Mi unidad/LICENSE_PLATES_RECOGITION_L&V/GITHUB_testset_croppedimages\\7122FYJ.jpg\n",
      "Saved cropped plate to G:/Mi unidad/LICENSE_PLATES_RECOGITION_L&V/GITHUB_testset_croppedimages\\2412JBC.jpg\n",
      "Saved cropped plate to G:/Mi unidad/LICENSE_PLATES_RECOGITION_L&V/GITHUB_testset_croppedimages\\7007KFD.jpg\n",
      "Saved cropped plate to G:/Mi unidad/LICENSE_PLATES_RECOGITION_L&V/GITHUB_testset_croppedimages\\5240MNV.jpg\n",
      "Saved cropped plate to G:/Mi unidad/LICENSE_PLATES_RECOGITION_L&V/GITHUB_testset_croppedimages\\4279MHZ.jpg\n",
      "Saved cropped plate to G:/Mi unidad/LICENSE_PLATES_RECOGITION_L&V/GITHUB_testset_croppedimages\\0167KJX.jpg\n",
      "Saved cropped plate to G:/Mi unidad/LICENSE_PLATES_RECOGITION_L&V/GITHUB_testset_croppedimages\\9117HHJ.jpg\n",
      "Saved cropped plate to G:/Mi unidad/LICENSE_PLATES_RECOGITION_L&V/GITHUB_testset_croppedimages\\4960GXC.jpg\n",
      "Saved cropped plate to G:/Mi unidad/LICENSE_PLATES_RECOGITION_L&V/GITHUB_testset_croppedimages\\3660CRT.jpg\n",
      "Saved cropped plate to G:/Mi unidad/LICENSE_PLATES_RECOGITION_L&V/GITHUB_testset_croppedimages\\1061JXF.jpg\n",
      "Saved cropped plate to G:/Mi unidad/LICENSE_PLATES_RECOGITION_L&V/GITHUB_testset_croppedimages\\1287KLP.jpg\n",
      "Saved cropped plate to G:/Mi unidad/LICENSE_PLATES_RECOGITION_L&V/GITHUB_testset_croppedimages\\8123LDM.jpg\n",
      "Saved cropped plate to G:/Mi unidad/LICENSE_PLATES_RECOGITION_L&V/GITHUB_testset_croppedimages\\1877LXC.jpg\n",
      "Saved cropped plate to G:/Mi unidad/LICENSE_PLATES_RECOGITION_L&V/GITHUB_testset_croppedimages\\1426JVT.jpg\n",
      "Saved cropped plate to G:/Mi unidad/LICENSE_PLATES_RECOGITION_L&V/GITHUB_testset_croppedimages\\0492MTT.jpg\n",
      "Saved cropped plate to G:/Mi unidad/LICENSE_PLATES_RECOGITION_L&V/GITHUB_testset_croppedimages\\4887BCX.jpg\n",
      "Saved cropped plate to G:/Mi unidad/LICENSE_PLATES_RECOGITION_L&V/GITHUB_testset_croppedimages\\7550KKL.jpg\n",
      "Saved cropped plate to G:/Mi unidad/LICENSE_PLATES_RECOGITION_L&V/GITHUB_testset_croppedimages\\8239MGN.jpg\n",
      "Saved cropped plate to G:/Mi unidad/LICENSE_PLATES_RECOGITION_L&V/GITHUB_testset_croppedimages\\6929LKK.jpg\n",
      "Saved cropped plate to G:/Mi unidad/LICENSE_PLATES_RECOGITION_L&V/GITHUB_testset_croppedimages\\2552HGF.jpg\n",
      "Saved cropped plate to G:/Mi unidad/LICENSE_PLATES_RECOGITION_L&V/GITHUB_testset_croppedimages\\6740GCZ.jpg\n",
      "Saved cropped plate to G:/Mi unidad/LICENSE_PLATES_RECOGITION_L&V/GITHUB_testset_croppedimages\\9395MSB.jpg\n",
      "Saved cropped plate to G:/Mi unidad/LICENSE_PLATES_RECOGITION_L&V/GITHUB_testset_croppedimages\\1043BYB.jpg\n",
      "Saved cropped plate to G:/Mi unidad/LICENSE_PLATES_RECOGITION_L&V/GITHUB_testset_croppedimages\\2535GLK.jpg\n",
      "Saved cropped plate to G:/Mi unidad/LICENSE_PLATES_RECOGITION_L&V/GITHUB_validationset_croppedimages\\3340JMF.jpg\n",
      "Saved cropped plate to G:/Mi unidad/LICENSE_PLATES_RECOGITION_L&V/GITHUB_validationset_croppedimages\\3929GVS.jpg\n",
      "Saved cropped plate to G:/Mi unidad/LICENSE_PLATES_RECOGITION_L&V/GITHUB_validationset_croppedimages\\6692JDG.jpg\n",
      "Saved cropped plate to G:/Mi unidad/LICENSE_PLATES_RECOGITION_L&V/GITHUB_validationset_croppedimages\\3075KTD.jpg\n",
      "Saved cropped plate to G:/Mi unidad/LICENSE_PLATES_RECOGITION_L&V/GITHUB_validationset_croppedimages\\9075MDZ.jpg\n",
      "Saved cropped plate to G:/Mi unidad/LICENSE_PLATES_RECOGITION_L&V/GITHUB_validationset_croppedimages\\8212LWP.jpg\n",
      "Saved cropped plate to G:/Mi unidad/LICENSE_PLATES_RECOGITION_L&V/GITHUB_validationset_croppedimages\\8083HTW.jpg\n",
      "Saved cropped plate to G:/Mi unidad/LICENSE_PLATES_RECOGITION_L&V/GITHUB_validationset_croppedimages\\6005KFV.jpg\n",
      "Saved cropped plate to G:/Mi unidad/LICENSE_PLATES_RECOGITION_L&V/GITHUB_validationset_croppedimages\\6556KKH.jpg\n",
      "Saved cropped plate to G:/Mi unidad/LICENSE_PLATES_RECOGITION_L&V/GITHUB_validationset_croppedimages\\1414LJY.jpg\n",
      "Saved cropped plate to G:/Mi unidad/LICENSE_PLATES_RECOGITION_L&V/GITHUB_validationset_croppedimages\\6910LSM.jpg\n",
      "Saved cropped plate to G:/Mi unidad/LICENSE_PLATES_RECOGITION_L&V/GITHUB_validationset_croppedimages\\1258GBP.jpg\n",
      "Saved cropped plate to G:/Mi unidad/LICENSE_PLATES_RECOGITION_L&V/GITHUB_validationset_croppedimages\\1565HTS.jpg\n",
      "Saved cropped plate to G:/Mi unidad/LICENSE_PLATES_RECOGITION_L&V/GITHUB_validationset_croppedimages\\4146MDM.jpg\n",
      "Saved cropped plate to G:/Mi unidad/LICENSE_PLATES_RECOGITION_L&V/GITHUB_validationset_croppedimages\\4887GKX.jpg\n",
      "Saved cropped plate to G:/Mi unidad/LICENSE_PLATES_RECOGITION_L&V/GITHUB_validationset_croppedimages\\3044JMB.jpg\n",
      "Saved cropped plate to G:/Mi unidad/LICENSE_PLATES_RECOGITION_L&V/GITHUB_validationset_croppedimages\\5215HSH.jpg\n",
      "Saved cropped plate to G:/Mi unidad/LICENSE_PLATES_RECOGITION_L&V/GITHUB_validationset_croppedimages\\4077LKM.jpg\n",
      "Saved cropped plate to G:/Mi unidad/LICENSE_PLATES_RECOGITION_L&V/GITHUB_validationset_croppedimages\\4812GTX.jpg\n",
      "Saved cropped plate to G:/Mi unidad/LICENSE_PLATES_RECOGITION_L&V/GITHUB_validationset_croppedimages\\4373KYG.jpg\n",
      "Saved cropped plate to G:/Mi unidad/LICENSE_PLATES_RECOGITION_L&V/GITHUB_validationset_croppedimages\\9869KST.jpg\n",
      "Saved cropped plate to G:/Mi unidad/LICENSE_PLATES_RECOGITION_L&V/GITHUB_validationset_croppedimages\\2885BKJ.jpg\n",
      "Saved cropped plate to G:/Mi unidad/LICENSE_PLATES_RECOGITION_L&V/GITHUB_validationset_croppedimages\\1125KDR.jpg\n",
      "Saved cropped plate to G:/Mi unidad/LICENSE_PLATES_RECOGITION_L&V/GITHUB_validationset_croppedimages\\7254LJJ.jpg\n"
     ]
    }
   ],
   "source": [
    "\"\"\"save_folder = 'G:/Mi unidad/LICENSE_PLATES_RECOGITION_L&V/GITHUB_trainset_croppedimages'\n",
    "fl.display_and_save_cropped_plates(cropped_plates_train_2, save_folder)\n",
    "save_folder = 'G:/Mi unidad/LICENSE_PLATES_RECOGITION_L&V/GITHUB_testset_croppedimages'\n",
    "fl.display_and_save_cropped_plates(cropped_plates_train_3, save_folder)\n",
    "save_folder = 'G:/Mi unidad/LICENSE_PLATES_RECOGITION_L&V/GITHUB_validationset_croppedimages'\n",
    "fl.display_and_save_cropped_plates(cropped_plates_train_4, save_folder)\"\"\""
   ]
  },
  {
   "cell_type": "markdown",
   "metadata": {},
   "source": [
    "# TRAINING MODELS (character detection)"
   ]
  },
  {
   "cell_type": "markdown",
   "metadata": {},
   "source": [
    "## SVC MODEL "
   ]
  },
  {
   "cell_type": "code",
   "execution_count": 3,
   "metadata": {},
   "outputs": [
    {
     "name": "stdout",
     "output_type": "stream",
     "text": [
      "Test Accuracy: 87.21%\n"
     ]
    }
   ],
   "source": [
    "base_path_lara = 'G:/Mi unidad/LICENSE_PLATES_RECOGITION_L&V/Dataset Characters'\n",
    "accuracy, clf, scaler, label_encoder = svc.train_svm_and_get_accuracy(base_path_lara)\n",
    "print(f\"Test Accuracy: {accuracy * 100:.2f}%\")"
   ]
  },
  {
   "cell_type": "markdown",
   "metadata": {},
   "source": [
    "## CNN MODEL"
   ]
  },
  {
   "cell_type": "code",
   "execution_count": 4,
   "metadata": {},
   "outputs": [
    {
     "name": "stdout",
     "output_type": "stream",
     "text": [
      "Epoch [1/30], Loss: 3.567791700363159\n",
      "Epoch [2/30], Loss: 3.2217656915838067\n",
      "Epoch [3/30], Loss: 2.6013115644454956\n",
      "Epoch [4/30], Loss: 1.6976417628201572\n",
      "Epoch [5/30], Loss: 1.1486668315800754\n",
      "Epoch [6/30], Loss: 0.7370937331156298\n",
      "Epoch [7/30], Loss: 0.5076939571987499\n",
      "Epoch [8/30], Loss: 0.29496600140224805\n",
      "Epoch [9/30], Loss: 0.22657926617698235\n",
      "Epoch [10/30], Loss: 0.1764775270765478\n",
      "Epoch [11/30], Loss: 0.13025157864798198\n",
      "Epoch [12/30], Loss: 0.10455228930169885\n",
      "Epoch [13/30], Loss: 0.1041620077395981\n",
      "Epoch [14/30], Loss: 0.11042351817542856\n",
      "Epoch [15/30], Loss: 0.08562502171844244\n",
      "Epoch [16/30], Loss: 0.051723278550939125\n",
      "Epoch [17/30], Loss: 0.03149224948984655\n",
      "Epoch [18/30], Loss: 0.03510911119255153\n",
      "Epoch [19/30], Loss: 0.041666312122040174\n",
      "Epoch [20/30], Loss: 0.04507654456591064\n",
      "Epoch [21/30], Loss: 0.033383555128239095\n",
      "Epoch [22/30], Loss: 0.04960223691622642\n",
      "Epoch [23/30], Loss: 0.0366290811533955\n",
      "Epoch [24/30], Loss: 0.040401718663898384\n",
      "Epoch [25/30], Loss: 0.04038031352683902\n",
      "Epoch [26/30], Loss: 0.027023019290275195\n",
      "Epoch [27/30], Loss: 0.029868188060142777\n",
      "Epoch [28/30], Loss: 0.053372504390691494\n",
      "Epoch [29/30], Loss: 0.030264683533459902\n",
      "Epoch [30/30], Loss: 0.02105964011174034\n",
      "Finished Training\n",
      "Test Accuracy: 91.86046511627907%\n"
     ]
    }
   ],
   "source": [
    "transform = transforms.Compose([\n",
    "    transforms.Grayscale(num_output_channels=1),  \n",
    "    transforms.Resize((28, 28)),                 \n",
    "    transforms.ToTensor(),                        \n",
    "    transforms.Normalize((0.5,), (0.5,))         \n",
    "])\n",
    "\n",
    "dataset = ImageFolder(root= base_path_lara, transform=transform)\n",
    "\n",
    "train_size = int(0.8 * len(dataset))\n",
    "test_size = len(dataset) - train_size\n",
    "train_dataset, test_dataset = random_split(dataset, [train_size, test_size])\n",
    "\n",
    "train_loader = DataLoader(train_dataset, batch_size=32, shuffle=True)\n",
    "test_loader = DataLoader(test_dataset, batch_size=32, shuffle=False)\n",
    "\n",
    "#print(f\"Classes: {dataset.classes}\")\n",
    "\n",
    "num_classes = len(dataset.classes)\n",
    "model = cnn.CNNModel(num_classes)\n",
    "\n",
    "criterion = cnn.nn.CrossEntropyLoss() \n",
    "optimizer = cnn.optim.Adam(model.parameters(), lr=0.001)\n",
    "\n",
    "model.to(cnn.device)\n",
    "\n",
    "cnn.train_model(model, train_loader, criterion, optimizer, num_epochs=30)\n",
    "cnn.evaluate_model(model,test_loader)"
   ]
  },
  {
   "cell_type": "markdown",
   "metadata": {},
   "source": [
    "# RESULTS (own data)"
   ]
  },
  {
   "cell_type": "markdown",
   "metadata": {},
   "source": [
    "## TRAINING RESULTS"
   ]
  },
  {
   "cell_type": "code",
   "execution_count": null,
   "metadata": {},
   "outputs": [],
   "source": [
    "\"\"\"pc_lara = 'G:/Mi unidad/LICENSE_PLATES_RECOGITION_L&V/GITHUB_trainset_croppedimages'\n",
    "# Define directories for saving Spanish and non-Spanish results\n",
    "spanish_dir = \"G:/Mi unidad/LICENSE_PLATES_RECOGITION_L&V/Results_Spain (TRAIN)\"\n",
    "non_spanish_dir = \"G:/Mi unidad/LICENSE_PLATES_RECOGITION_L&V/Results_Rest (TRAIN)\"\n",
    "\n",
    "predict_train_svc = []\n",
    "predict_train_svc_filter = []\n",
    "predict_train_cnn = []\n",
    "predict_train_cnn_filter = []\n",
    "predict_train_ocr = []\n",
    "predict_train_ocr_filter = []\n",
    "c = 0\n",
    "\n",
    "# Create directories if they don't exist\n",
    "os.makedirs(spanish_dir, exist_ok=True)\n",
    "os.makedirs(non_spanish_dir, exist_ok=True)\n",
    "\n",
    "# Loop over the image files\n",
    "for image_file in os.listdir(pc_lara):\n",
    "        if image_file.endswith('.jpg'):  # Ensure we're processing image files only\n",
    "            image_path = os.path.join(pc_lara, image_file)\n",
    "            image = cv2.imread(image_path)\n",
    "            car = image.copy()\n",
    "            if os.path.exists(spanish_dir):\n",
    "                c+=1\n",
    "                print(f\"Result image for {image_file} already exists. Skipping...\")\n",
    "                continue  # Skip to the next image if the result already exists\n",
    "\n",
    "            # SEGMENTATION CHARACTERS------------------------------------------\n",
    "            # METHOD 1\n",
    "            m1_chars = r.segment_characters(image)\n",
    "            r.visualize_char(m1_chars)\n",
    "\n",
    "            # METHOD 2\n",
    "            upscaled_license_plate, m2_chars = r.OCR_image(\n",
    "                license_plate=image, t=180, min_h=80, min_w=20, min_ar=0.2, max_ar=1.4, area=6000)\n",
    "\n",
    "            # Choose the best method\n",
    "            best_char = r.best_segmentation_method(m1_chars, m2_chars)\n",
    "\n",
    "            #SAVE CHARACTERS IF WELL-SEGMENTED TO INCREASE THE DATASET (only trainset images)\n",
    "            #for i in range(len(characters)):\n",
    "            #save the files to expand the dataset\n",
    "            #output_path = os.path.join(\"G:/Mi unidad/LICENSE_PLATES_RECOGITION_L&V/Dataset Characters\", f'caracter_{i}.png')\n",
    "            #cv2.imwrite(output_path, characters[i])\n",
    "            \n",
    "            # PREDICTION MODELS------------------------------------------\n",
    "            plate_sol = svc.test_preprocessed_images_with_plot(clf, scaler, best_char, label_encoder)\n",
    "            predict_train_svc.append(plate_sol)\n",
    "            label_encoder = LabelEncoder()\n",
    "            label_encoder.fit(dataset.classes)  \n",
    "            predicted_plate = cnn.predict_characters(model, best_char, label_encoder)\n",
    "            predict_train_cnn.append(predicted_plate)\n",
    "            license_plate_text = r.easy_ocr_method(upscaled_license_plate)\n",
    "            predict_train_ocr.append(license_plate_text)\n",
    "\n",
    "            fig, axes = plt.subplots(1, 3, figsize=(15, 5))  \n",
    "            \n",
    "            filter_plate_svc = r.filter_spain_plates(plate_sol)\n",
    "            predict_train_svc_filter.append(filter_plate_svc)\n",
    "            filter_plate_cnn = r.filter_spain_plates(predicted_plate)\n",
    "            predict_train_cnn_filter.append(filter_plate_cnn)\n",
    "            filter_plate_ocr = r.filter_spain_plates(license_plate_text)\n",
    "            predict_train_ocr_filter.append(filter_plate_ocr)\n",
    "\n",
    "            axes[0].set_title(f\"SVM Prediction: {plate_sol}\\nFiltered: {filter_plate_svc}\")\n",
    "            axes[1].set_title(f\"CNN Prediction: {predicted_plate}\\nFiltered: {filter_plate_cnn}\")\n",
    "            axes[2].set_title(f\"EasyOCR Prediction: {license_plate_text}\\nFiltered: {filter_plate_ocr}\")\n",
    "\n",
    "            save_dir = spanish_dir \n",
    "\n",
    "            axes[0].imshow(car, cmap='gray')\n",
    "            axes[0].axis('off')\n",
    "\n",
    "            axes[1].imshow(car, cmap='gray')\n",
    "            axes[1].axis('off')\n",
    "\n",
    "            axes[2].imshow(car, cmap='gray')\n",
    "            axes[2].axis('off')\n",
    "\n",
    "            plt.tight_layout()\n",
    "\n",
    "            # Save the image with a relevant name in the correct folder\n",
    "            result_image_path = os.path.join(save_dir, f'{os.path.splitext(image_file)[0]}.png')\n",
    "            plt.savefig(result_image_path)\n",
    "            plt.close()\"\"\""
   ]
  },
  {
   "cell_type": "markdown",
   "metadata": {},
   "source": [
    "## TEST RESULTS"
   ]
  },
  {
   "cell_type": "code",
   "execution_count": null,
   "metadata": {},
   "outputs": [],
   "source": [
    "\"\"\"pc_lara = 'G:/Mi unidad/LICENSE_PLATES_RECOGITION_L&V/GITHUB_testset_croppedimages'\n",
    "spanish_dir = \"G:/Mi unidad/LICENSE_PLATES_RECOGITION_L&V/Results_Spain (TEST)\"\n",
    "non_spanish_dir = \"G:/Mi unidad/LICENSE_PLATES_RECOGITION_L&V/Results_Rest (TEST)\"\n",
    "\n",
    "predict_test_svc = []\n",
    "predict_test_svc_filter = []\n",
    "predict_test_cnn = []\n",
    "predict_test_cnn_filter = []\n",
    "predict_test_ocr = []\n",
    "predict_test_ocr_filter = []\n",
    "\n",
    "# Create directories if they don't exist\n",
    "os.makedirs(spanish_dir, exist_ok=True)\n",
    "os.makedirs(non_spanish_dir, exist_ok=True)\n",
    "\n",
    "# Loop over the image files\n",
    "for image_file in os.listdir(pc_lara):\n",
    "    if image_file.endswith('.jpg'):  # Ensure we're processing image files only\n",
    "        image_path = os.path.join(pc_lara, image_file)\n",
    "        image = cv2.imread(image_path)\n",
    "        car = image.copy()\n",
    "\n",
    "        # SEGMENTATION CHARACTERS------------------------------------------\n",
    "        # METHOD 1\n",
    "        m1_chars = r.segment_characters(image)\n",
    "        r.visualize_char(m1_chars)\n",
    "\n",
    "        # METHOD 2\n",
    "        upscaled_license_plate, m2_chars = r.OCR_image(\n",
    "            license_plate=image, t=180, min_h=80, min_w=20, min_ar=0.2, max_ar=1.4, area=6000)\n",
    "\n",
    "        # Choose the best method\n",
    "        best_char = r.best_segmentation_method(m1_chars, m2_chars)\n",
    "\n",
    "        # PREDICTION MODELS------------------------------------------\n",
    "        plate_sol = svc.test_preprocessed_images_with_plot(clf, scaler, best_char, label_encoder)\n",
    "        predict_test_svc.append(plate_sol)\n",
    "        label_encoder = LabelEncoder()\n",
    "        label_encoder.fit(dataset.classes)  \n",
    "        predicted_plate = cnn.predict_characters(model, best_char, label_encoder)\n",
    "        predict_test_cnn.append(predicted_plate)\n",
    "        license_plate_text = r.easy_ocr_method(upscaled_license_plate)\n",
    "        predict_test_ocr.append(license_plate_text)\n",
    "\n",
    "        # Ask if the plate is Spanish\n",
    "        spain = input(\"Is it a Spanish plate?: \")\n",
    "\n",
    "        # Create the figure and axes for plotting\n",
    "        fig, axes = plt.subplots(1, 3, figsize=(15, 5))  \n",
    "        \n",
    "        if spain.upper() == \"Y\":\n",
    "            # Filter for Spanish plates\n",
    "            filter_plate_svc = r.filter_spain_plates(plate_sol)\n",
    "            predict_test_svc_filter.append(filter_plate_svc)\n",
    "            filter_plate_cnn = r.filter_spain_plates(predicted_plate)\n",
    "            predict_test_cnn_filter.append(filter_plate_cnn)\n",
    "            filter_plate_ocr = r.filter_spain_plates(license_plate_text)\n",
    "            predict_test_ocr_filter.append(filter_plate_ocr)\n",
    "\n",
    "            # Update titles to include filtered predictions\n",
    "            axes[0].set_title(f\"SVM Prediction: {plate_sol}\\nFiltered: {filter_plate_svc}\")\n",
    "            axes[1].set_title(f\"CNN Prediction: {predicted_plate}\\nFiltered: {filter_plate_cnn}\")\n",
    "            axes[2].set_title(f\"EasyOCR Prediction: {license_plate_text}\\nFiltered: {filter_plate_ocr}\")\n",
    "\n",
    "            save_dir = spanish_dir  # Save results in the Spanish folder\n",
    "\n",
    "        else:\n",
    "            # No filtering for non-Spanish plates\n",
    "            axes[0].set_title(f\"SVM Prediction: {plate_sol}\")\n",
    "            axes[1].set_title(f\"CNN Prediction: {predicted_plate}\")\n",
    "            axes[2].set_title(f\"EasyOCR Prediction: {license_plate_text}\")\n",
    "\n",
    "            save_dir = non_spanish_dir  # Save results in the non-Spanish folder\n",
    "\n",
    "        # Plot the car image with the respective titles\n",
    "        axes[0].imshow(car, cmap='gray')\n",
    "        axes[0].axis('off')\n",
    "\n",
    "        axes[1].imshow(car, cmap='gray')\n",
    "        axes[1].axis('off')\n",
    "\n",
    "        axes[2].imshow(car, cmap='gray')\n",
    "        axes[2].axis('off')\n",
    "\n",
    "        plt.tight_layout()\n",
    "\n",
    "        # Save the image with a relevant name in the correct folder\n",
    "        result_image_path = os.path.join(save_dir, f'{os.path.splitext(image_file)[0]}.png')\n",
    "        plt.savefig(result_image_path)\n",
    "        plt.close()\n",
    "\"\"\""
   ]
  },
  {
   "cell_type": "markdown",
   "metadata": {},
   "source": [
    "## VALIDATION RESULTS"
   ]
  },
  {
   "cell_type": "code",
   "execution_count": null,
   "metadata": {},
   "outputs": [],
   "source": [
    "\"\"\"pc_lara = 'G:/Mi unidad/LICENSE_PLATES_RECOGITION_L&V/GITHUB_validationset_croppedimages'\n",
    "spanish_dir = \"G:/Mi unidad/LICENSE_PLATES_RECOGITION_L&V/Results_Spain (VALIDATION)\"\n",
    "non_spanish_dir = \"G:/Mi unidad/LICENSE_PLATES_RECOGITION_L&V/Results_Rest (VALIDATION)\"\n",
    "\n",
    "predict_validation_svc = []\n",
    "predict_validation_svc_filter = []\n",
    "predict_validation_cnn = []\n",
    "predict_validation_cnn_filter = []\n",
    "predict_validation_ocr = []\n",
    "predict_validation_ocr_filter = []\n",
    "\n",
    "# Create directories if they don't exist\n",
    "os.makedirs(spanish_dir, exist_ok=True)\n",
    "os.makedirs(non_spanish_dir, exist_ok=True)\n",
    "\n",
    "# Loop over the image files\n",
    "for image_file in os.listdir(pc_lara):\n",
    "    if image_file.endswith('.jpg'):  # Ensure we're processing image files only\n",
    "        image_path = os.path.join(pc_lara, image_file)\n",
    "        image = cv2.imread(image_path)\n",
    "        car = image.copy()\n",
    "\n",
    "        # SEGMENTATION CHARACTERS------------------------------------------\n",
    "        # METHOD 1\n",
    "        m1_chars = r.segment_characters(image)\n",
    "        r.visualize_char(m1_chars)\n",
    "\n",
    "        # METHOD 2\n",
    "        upscaled_license_plate, m2_chars = r.OCR_image(\n",
    "            license_plate=image, t=180, min_h=80, min_w=20, min_ar=0.2, max_ar=1.4, area=6000)\n",
    "\n",
    "        # Choose the best method\n",
    "        best_char = r.best_segmentation_method(m1_chars, m2_chars)\n",
    "\n",
    "        # PREDICTION MODELS------------------------------------------\n",
    "        plate_sol = svc.test_preprocessed_images_with_plot(clf, scaler, best_char, label_encoder)\n",
    "        predict_validation_svc.append(plate_sol)\n",
    "        label_encoder = LabelEncoder()\n",
    "        label_encoder.fit(dataset.classes)  \n",
    "        predicted_plate = cnn.predict_characters(model, best_char, label_encoder)\n",
    "        predict_validation_cnn.append(predicted_plate)\n",
    "        license_plate_text = r.easy_ocr_method(upscaled_license_plate)\n",
    "        predict_validation_ocr.append(license_plate_text)\n",
    "\n",
    "        # Ask if the plate is Spanish\n",
    "        spain = input(\"Is it a Spanish plate?: \")\n",
    "\n",
    "        # Create the figure and axes for plotting\n",
    "        fig, axes = plt.subplots(1, 3, figsize=(15, 5))  \n",
    "        \n",
    "        if spain.upper() == \"Y\":\n",
    "            # Filter for Spanish plates\n",
    "            filter_plate_svc = r.filter_spain_plates(plate_sol)\n",
    "            predict_validation_svc_filter.append(filter_plate_svc)\n",
    "            filter_plate_cnn = r.filter_spain_plates(predicted_plate)\n",
    "            predict_validation_cnn_filter.append(filter_plate_cnn)\n",
    "            filter_plate_ocr = r.filter_spain_plates(license_plate_text)\n",
    "            predict_validation_ocr_filter.append(filter_plate_ocr)\n",
    "\n",
    "            # Update titles to include filtered predictions\n",
    "            axes[0].set_title(f\"SVM Prediction: {plate_sol}\\nFiltered: {filter_plate_svc}\")\n",
    "            axes[1].set_title(f\"CNN Prediction: {predicted_plate}\\nFiltered: {filter_plate_cnn}\")\n",
    "            axes[2].set_title(f\"EasyOCR Prediction: {license_plate_text}\\nFiltered: {filter_plate_ocr}\")\n",
    "\n",
    "            save_dir = spanish_dir  # Save results in the Spanish folder\n",
    "\n",
    "        else:\n",
    "            # No filtering for non-Spanish plates\n",
    "            axes[0].set_title(f\"SVM Prediction: {plate_sol}\")\n",
    "            axes[1].set_title(f\"CNN Prediction: {predicted_plate}\")\n",
    "            axes[2].set_title(f\"EasyOCR Prediction: {license_plate_text}\")\n",
    "\n",
    "            save_dir = non_spanish_dir  # Save results in the non-Spanish folder\n",
    "\n",
    "        # Plot the car image with the respective titles\n",
    "        axes[0].imshow(car, cmap='gray')\n",
    "        axes[0].axis('off')\n",
    "\n",
    "        axes[1].imshow(car, cmap='gray')\n",
    "        axes[1].axis('off')\n",
    "\n",
    "        axes[2].imshow(car, cmap='gray')\n",
    "        axes[2].axis('off')\n",
    "\n",
    "        plt.tight_layout()\n",
    "\n",
    "        # Save the image with a relevant name in the correct folder\n",
    "        result_image_path = os.path.join(save_dir, f'{os.path.splitext(image_file)[0]}.png')\n",
    "        plt.savefig(result_image_path)\n",
    "        plt.close()\n",
    "\"\"\""
   ]
  },
  {
   "cell_type": "markdown",
   "metadata": {},
   "source": [
    "#### SAVE LIST OF OUTPUTS"
   ]
  },
  {
   "cell_type": "code",
   "execution_count": 13,
   "metadata": {},
   "outputs": [],
   "source": [
    "\"\"\"# Function to save lists to txt file\n",
    "def save_list_to_txt(list_data, file_path):\n",
    "    with open(file_path, 'w') as f:\n",
    "        for item in list_data:\n",
    "            f.write(f\"{item}\\n\")  \n",
    "\n",
    "svc_predictions_path_validation = \"G:/Mi unidad/LICENSE_PLATES_RECOGITION_L&V/svc_predictions_validation.txt\"\n",
    "cnn_predictions_path_validation = \"G:/Mi unidad/LICENSE_PLATES_RECOGITION_L&V/cnn_predictions_validation.txt\"\n",
    "ocr_predictions_path_validation = \"G:/Mi unidad/LICENSE_PLATES_RECOGITION_L&V/ocr_predictions_validation.txt\"\n",
    "\n",
    "svc_filtered_path_validation = \"G:/Mi unidad/LICENSE_PLATES_RECOGITION_L&V/svc_filtered_validation.txt\"\n",
    "cnn_filtered_path_validation = \"G:/Mi unidad/LICENSE_PLATES_RECOGITION_L&V/cnn_filtered_validation.txt\"\n",
    "ocr_filtered_path_validation = \"G:/Mi unidad/LICENSE_PLATES_RECOGITION_L&V/ocr_filtered_validation.txt\"\n",
    "\n",
    "save_list_to_txt(predict_validation_svc, svc_predictions_path_validation)\n",
    "save_list_to_txt(predict_validation_cnn, cnn_predictions_path_validation)\n",
    "save_list_to_txt(predict_validation_ocr, ocr_predictions_path_validation)\n",
    "\n",
    "# Guardar predicciones filtradas para placas españolas\n",
    "save_list_to_txt(predict_validation_svc_filter, svc_filtered_path_validation)\n",
    "save_list_to_txt(predict_validation_cnn_filter, cnn_filtered_path_validation)\n",
    "save_list_to_txt(predict_validation_ocr_filter, ocr_filtered_path_validation)\"\"\""
   ]
  },
  {
   "cell_type": "markdown",
   "metadata": {},
   "source": [
    "# EVALUATING MODELS"
   ]
  },
  {
   "cell_type": "markdown",
   "metadata": {},
   "source": [
    "## Training"
   ]
  },
  {
   "cell_type": "code",
   "execution_count": 7,
   "metadata": {},
   "outputs": [
    {
     "name": "stdout",
     "output_type": "stream",
     "text": [
      "Unique classes in Ground Truth: {'9455JKM', '0278KXW', '4797LBD', '3865GBM', '8597FSC', '8146JHT', '2709FWH', '1824KYK', '7016MLZ', '6735LHT', '3451LGB', '7067KSH', '0192DSP', '5386MKJ', '5179LBS', '1906HKF', '3845LTY', '3076CCV', '6554BNX', '1556GMZ', '1111LRB', '2153GYX', '4789HNG', '6490HTD', '6888LYP', '6712KPR', '4182KMG', '3587DCX', '3983GVK', '6963HKS', '0161MDT', '4181GWT', '8787MHC', '9892JFR', '5240BFM', '5133MBD', '8011KHS', '7911LYX', '3362LKY', '4679HHB', '3353FCB', '6395LYZ', '2375KFD', '1903HNV', '7963KNH', '8970GZR', '0175HDW', '8555JKG', '5172LTZ', '3691MTY', '5240KSW', '0568MBX', '3404KXN', '0085LND', '4000GFL', '0660JDX', '0874LNH', '4080KRB', '5361HPY', '4449LSZ', '4125DVF', '3963KFM', '7746KBG', '3497BYY', '4283DJR', '4900KPY', '0182GLK', '3773JLN', '6000GVT', '7720LWN', '3845GJZ', '1855MHN', '6775BNF', '2953JHW', '6401JBX', '1394CTX', '1339MMS', '5275HGY', '2031JPF', '5004MGB', '6011HHV', '4485LZB', '1949LLT', '1310MPK', '4674FHC', '9509HGD', '1107JND', '3247KZJ', '0114BCX', '2603HJF', '5584HJL', '1072FRD', '220LNW', '9532GVC', '4634JKH', '4346HMW', '5789JHB', '6445HNP', '8033MLP', '7864GTX', '1818GZL', '0129KMK', '8384KWN', '8120GLL', '1927HDH', '0041LZN', '6040DLX', '3256HPR', '2344KJP', '5052HLJ', '9542KDC', '0649DHS', 'GI3660BS', '2956MJG', '1286JJG', '6688KSW', '0907JRF', '0550HNN', '6072HBJ', '5753GPV', '9331CRK', '9408CZF', '5936LDW', '0304FWK', 'B6525WY', '0165DXW', '8691KPN', '2929KXJ', '0195JHM', '1667BTS', '0776MKK', '1029JLW', '2861KXC', '7332JKC', '5934GCY', '1681LJT', '5467MBS', '6098HMF', '9694LWX', '9603MPD', '4087KTZ'}\n",
      "Unique classes in Predictions: {'3362LKY', '2344KJP', '05934JW', '9542KDC', '?7927HD', '7?KP?P0', '7M7E -E', '5753CP?', '2031JPF', '?4900KP', '8146JHT', '612D6LL', '1824KYK', '96003?0', 'D129KMK', '55?4HJL', '7911L?X', '5275HCY', '?4789HN', '9331CRK', '23709FW', '?3247K7', '4283DJP', '5936LDW', '2377775', '?5052?H', '4674FHC', '7016ML7', '6072H8J', '5386MKJ', '6011HHY', '1107JND', '5179LBS', 'TALLER1', '2953J7J', '74087?K', '0L31J6?', '0195JHM', '1667BTS', '7?9JH?L', '7746KBG', '9408C7F', '071?V8C', '?8011KH', '83YD8NC', '5934GCY', '1681LJT', '9892JFP', '6888LYP', '4346HMW', '3451L?8', '34978YY', '5554??4', 'LE -030', '?7??E -', '4797L80', '8033MLP', '16000GV', '01?2?LK', '1855MHN', '?E -639', '7067K3H', '6963HK3', '695326V', '2929KYJ', '57759NF', 'D17903H', 'D6098HM', '5133MBD', 'J?4080K'}\n",
      "Total Correct Identifications: 35, Total Misidentifications: 454\n"
     ]
    },
    {
     "ename": "ValueError",
     "evalue": "Found input variables with inconsistent numbers of samples: [141, 70]",
     "output_type": "error",
     "traceback": [
      "\u001b[1;31m---------------------------------------------------------------------------\u001b[0m",
      "\u001b[1;31mValueError\u001b[0m                                Traceback (most recent call last)",
      "Cell \u001b[1;32mIn[7], line 9\u001b[0m\n\u001b[0;32m      6\u001b[0m cnn_txt_filter \u001b[38;5;241m=\u001b[39m \u001b[38;5;124m'\u001b[39m\u001b[38;5;124mG:/Mi unidad/LICENSE_PLATES_RECOGITION_L&V/cnn_filtered.txt\u001b[39m\u001b[38;5;124m'\u001b[39m  \n\u001b[0;32m      7\u001b[0m ocr_txt_filter \u001b[38;5;241m=\u001b[39m \u001b[38;5;124m'\u001b[39m\u001b[38;5;124mG:/Mi unidad/LICENSE_PLATES_RECOGITION_L&V/ocr_filtered.txt\u001b[39m\u001b[38;5;124m'\u001b[39m  \n\u001b[1;32m----> 9\u001b[0m v\u001b[38;5;241m.\u001b[39mrun_evaluation_with_filenames(image_dir, svm_txt, cnn_txt, ocr_txt, svm_txt_filter, cnn_txt_filter, ocr_txt_filter)\n",
      "File \u001b[1;32mc:\\Users\\larar\\OneDrive\\Documentos\\Escritorio\\Car-Plate-Recognition-4\\functions_validation.py:103\u001b[0m, in \u001b[0;36mrun_evaluation_with_filenames\u001b[1;34m(image_dir, svm_txt, cnn_txt, ocr_txt, svm_txt_fil, cnn_txt_fil, ocr_txt_fil)\u001b[0m\n\u001b[0;32m    101\u001b[0m cnn_predictions_fil \u001b[38;5;241m=\u001b[39m load_predictions_from_txt(cnn_txt_fil)\n\u001b[0;32m    102\u001b[0m ocr_predictions_fil \u001b[38;5;241m=\u001b[39m load_predictions_from_txt(ocr_txt_fil)\n\u001b[1;32m--> 103\u001b[0m evaluate_predictions(ground_truth, svm_predictions, \u001b[38;5;124m\"\u001b[39m\u001b[38;5;124mSVM\u001b[39m\u001b[38;5;124m\"\u001b[39m)\n\u001b[0;32m    104\u001b[0m evaluate_predictions(ground_truth, cnn_predictions, \u001b[38;5;124m\"\u001b[39m\u001b[38;5;124mCNN\u001b[39m\u001b[38;5;124m\"\u001b[39m)\n\u001b[0;32m    105\u001b[0m evaluate_predictions(ground_truth, ocr_predictions, \u001b[38;5;124m\"\u001b[39m\u001b[38;5;124mOCR\u001b[39m\u001b[38;5;124m\"\u001b[39m)\n",
      "File \u001b[1;32mc:\\Users\\larar\\OneDrive\\Documentos\\Escritorio\\Car-Plate-Recognition-4\\functions_validation.py:92\u001b[0m, in \u001b[0;36mevaluate_predictions\u001b[1;34m(ground_truth, predictions, model_name)\u001b[0m\n\u001b[0;32m     88\u001b[0m total_false \u001b[38;5;241m=\u001b[39m \u001b[38;5;28msum\u001b[39m(false_counts)\n\u001b[0;32m     90\u001b[0m \u001b[38;5;28mprint\u001b[39m(\u001b[38;5;124mf\u001b[39m\u001b[38;5;124m\"\u001b[39m\u001b[38;5;124mTotal Correct Identifications: \u001b[39m\u001b[38;5;132;01m{\u001b[39;00mtotal_true\u001b[38;5;132;01m}\u001b[39;00m\u001b[38;5;124m, Total Misidentifications: \u001b[39m\u001b[38;5;132;01m{\u001b[39;00mtotal_false\u001b[38;5;132;01m}\u001b[39;00m\u001b[38;5;124m\"\u001b[39m)\n\u001b[1;32m---> 92\u001b[0m plot_confusion_matrix(ground_truth, predictions, model_name)\n",
      "File \u001b[1;32mc:\\Users\\larar\\OneDrive\\Documentos\\Escritorio\\Car-Plate-Recognition-4\\functions_validation.py:13\u001b[0m, in \u001b[0;36mplot_confusion_matrix\u001b[1;34m(true_labels, predictions, title)\u001b[0m\n\u001b[0;32m     12\u001b[0m \u001b[38;5;28;01mdef\u001b[39;00m \u001b[38;5;21mplot_confusion_matrix\u001b[39m(true_labels, predictions, title):\n\u001b[1;32m---> 13\u001b[0m     cm \u001b[38;5;241m=\u001b[39m confusion_matrix(true_labels, predictions)\n\u001b[0;32m     14\u001b[0m     plt\u001b[38;5;241m.\u001b[39mfigure(figsize\u001b[38;5;241m=\u001b[39m(\u001b[38;5;241m10\u001b[39m, \u001b[38;5;241m7\u001b[39m))\n\u001b[0;32m     15\u001b[0m     sns\u001b[38;5;241m.\u001b[39mheatmap(cm, annot\u001b[38;5;241m=\u001b[39m\u001b[38;5;28;01mTrue\u001b[39;00m, fmt\u001b[38;5;241m=\u001b[39m\u001b[38;5;124m'\u001b[39m\u001b[38;5;124md\u001b[39m\u001b[38;5;124m'\u001b[39m, cmap\u001b[38;5;241m=\u001b[39m\u001b[38;5;124m'\u001b[39m\u001b[38;5;124mBlues\u001b[39m\u001b[38;5;124m'\u001b[39m)\n",
      "File \u001b[1;32mc:\\Users\\larar\\anaconda3\\envs\\deeplearning2024\\Lib\\site-packages\\sklearn\\utils\\_param_validation.py:213\u001b[0m, in \u001b[0;36mvalidate_params.<locals>.decorator.<locals>.wrapper\u001b[1;34m(*args, **kwargs)\u001b[0m\n\u001b[0;32m    207\u001b[0m \u001b[38;5;28;01mtry\u001b[39;00m:\n\u001b[0;32m    208\u001b[0m     \u001b[38;5;28;01mwith\u001b[39;00m config_context(\n\u001b[0;32m    209\u001b[0m         skip_parameter_validation\u001b[38;5;241m=\u001b[39m(\n\u001b[0;32m    210\u001b[0m             prefer_skip_nested_validation \u001b[38;5;129;01mor\u001b[39;00m global_skip_validation\n\u001b[0;32m    211\u001b[0m         )\n\u001b[0;32m    212\u001b[0m     ):\n\u001b[1;32m--> 213\u001b[0m         \u001b[38;5;28;01mreturn\u001b[39;00m func(\u001b[38;5;241m*\u001b[39margs, \u001b[38;5;241m*\u001b[39m\u001b[38;5;241m*\u001b[39mkwargs)\n\u001b[0;32m    214\u001b[0m \u001b[38;5;28;01mexcept\u001b[39;00m InvalidParameterError \u001b[38;5;28;01mas\u001b[39;00m e:\n\u001b[0;32m    215\u001b[0m     \u001b[38;5;66;03m# When the function is just a wrapper around an estimator, we allow\u001b[39;00m\n\u001b[0;32m    216\u001b[0m     \u001b[38;5;66;03m# the function to delegate validation to the estimator, but we replace\u001b[39;00m\n\u001b[0;32m    217\u001b[0m     \u001b[38;5;66;03m# the name of the estimator by the name of the function in the error\u001b[39;00m\n\u001b[0;32m    218\u001b[0m     \u001b[38;5;66;03m# message to avoid confusion.\u001b[39;00m\n\u001b[0;32m    219\u001b[0m     msg \u001b[38;5;241m=\u001b[39m re\u001b[38;5;241m.\u001b[39msub(\n\u001b[0;32m    220\u001b[0m         \u001b[38;5;124mr\u001b[39m\u001b[38;5;124m\"\u001b[39m\u001b[38;5;124mparameter of \u001b[39m\u001b[38;5;124m\\\u001b[39m\u001b[38;5;124mw+ must be\u001b[39m\u001b[38;5;124m\"\u001b[39m,\n\u001b[0;32m    221\u001b[0m         \u001b[38;5;124mf\u001b[39m\u001b[38;5;124m\"\u001b[39m\u001b[38;5;124mparameter of \u001b[39m\u001b[38;5;132;01m{\u001b[39;00mfunc\u001b[38;5;241m.\u001b[39m\u001b[38;5;18m__qualname__\u001b[39m\u001b[38;5;132;01m}\u001b[39;00m\u001b[38;5;124m must be\u001b[39m\u001b[38;5;124m\"\u001b[39m,\n\u001b[0;32m    222\u001b[0m         \u001b[38;5;28mstr\u001b[39m(e),\n\u001b[0;32m    223\u001b[0m     )\n",
      "File \u001b[1;32mc:\\Users\\larar\\anaconda3\\envs\\deeplearning2024\\Lib\\site-packages\\sklearn\\metrics\\_classification.py:328\u001b[0m, in \u001b[0;36mconfusion_matrix\u001b[1;34m(y_true, y_pred, labels, sample_weight, normalize)\u001b[0m\n\u001b[0;32m    233\u001b[0m \u001b[38;5;129m@validate_params\u001b[39m(\n\u001b[0;32m    234\u001b[0m     {\n\u001b[0;32m    235\u001b[0m         \u001b[38;5;124m\"\u001b[39m\u001b[38;5;124my_true\u001b[39m\u001b[38;5;124m\"\u001b[39m: [\u001b[38;5;124m\"\u001b[39m\u001b[38;5;124marray-like\u001b[39m\u001b[38;5;124m\"\u001b[39m],\n\u001b[1;32m   (...)\u001b[0m\n\u001b[0;32m    244\u001b[0m     y_true, y_pred, \u001b[38;5;241m*\u001b[39m, labels\u001b[38;5;241m=\u001b[39m\u001b[38;5;28;01mNone\u001b[39;00m, sample_weight\u001b[38;5;241m=\u001b[39m\u001b[38;5;28;01mNone\u001b[39;00m, normalize\u001b[38;5;241m=\u001b[39m\u001b[38;5;28;01mNone\u001b[39;00m\n\u001b[0;32m    245\u001b[0m ):\n\u001b[0;32m    246\u001b[0m \u001b[38;5;250m    \u001b[39m\u001b[38;5;124;03m\"\"\"Compute confusion matrix to evaluate the accuracy of a classification.\u001b[39;00m\n\u001b[0;32m    247\u001b[0m \n\u001b[0;32m    248\u001b[0m \u001b[38;5;124;03m    By definition a confusion matrix :math:`C` is such that :math:`C_{i, j}`\u001b[39;00m\n\u001b[1;32m   (...)\u001b[0m\n\u001b[0;32m    326\u001b[0m \u001b[38;5;124;03m    (0, 2, 1, 1)\u001b[39;00m\n\u001b[0;32m    327\u001b[0m \u001b[38;5;124;03m    \"\"\"\u001b[39;00m\n\u001b[1;32m--> 328\u001b[0m     y_type, y_true, y_pred \u001b[38;5;241m=\u001b[39m _check_targets(y_true, y_pred)\n\u001b[0;32m    329\u001b[0m     \u001b[38;5;28;01mif\u001b[39;00m y_type \u001b[38;5;129;01mnot\u001b[39;00m \u001b[38;5;129;01min\u001b[39;00m (\u001b[38;5;124m\"\u001b[39m\u001b[38;5;124mbinary\u001b[39m\u001b[38;5;124m\"\u001b[39m, \u001b[38;5;124m\"\u001b[39m\u001b[38;5;124mmulticlass\u001b[39m\u001b[38;5;124m\"\u001b[39m):\n\u001b[0;32m    330\u001b[0m         \u001b[38;5;28;01mraise\u001b[39;00m \u001b[38;5;167;01mValueError\u001b[39;00m(\u001b[38;5;124m\"\u001b[39m\u001b[38;5;132;01m%s\u001b[39;00m\u001b[38;5;124m is not supported\u001b[39m\u001b[38;5;124m\"\u001b[39m \u001b[38;5;241m%\u001b[39m y_type)\n",
      "File \u001b[1;32mc:\\Users\\larar\\anaconda3\\envs\\deeplearning2024\\Lib\\site-packages\\sklearn\\metrics\\_classification.py:99\u001b[0m, in \u001b[0;36m_check_targets\u001b[1;34m(y_true, y_pred)\u001b[0m\n\u001b[0;32m     72\u001b[0m \u001b[38;5;28;01mdef\u001b[39;00m \u001b[38;5;21m_check_targets\u001b[39m(y_true, y_pred):\n\u001b[0;32m     73\u001b[0m \u001b[38;5;250m    \u001b[39m\u001b[38;5;124;03m\"\"\"Check that y_true and y_pred belong to the same classification task.\u001b[39;00m\n\u001b[0;32m     74\u001b[0m \n\u001b[0;32m     75\u001b[0m \u001b[38;5;124;03m    This converts multiclass or binary types to a common shape, and raises a\u001b[39;00m\n\u001b[1;32m   (...)\u001b[0m\n\u001b[0;32m     97\u001b[0m \u001b[38;5;124;03m    y_pred : array or indicator matrix\u001b[39;00m\n\u001b[0;32m     98\u001b[0m \u001b[38;5;124;03m    \"\"\"\u001b[39;00m\n\u001b[1;32m---> 99\u001b[0m     check_consistent_length(y_true, y_pred)\n\u001b[0;32m    100\u001b[0m     type_true \u001b[38;5;241m=\u001b[39m type_of_target(y_true, input_name\u001b[38;5;241m=\u001b[39m\u001b[38;5;124m\"\u001b[39m\u001b[38;5;124my_true\u001b[39m\u001b[38;5;124m\"\u001b[39m)\n\u001b[0;32m    101\u001b[0m     type_pred \u001b[38;5;241m=\u001b[39m type_of_target(y_pred, input_name\u001b[38;5;241m=\u001b[39m\u001b[38;5;124m\"\u001b[39m\u001b[38;5;124my_pred\u001b[39m\u001b[38;5;124m\"\u001b[39m)\n",
      "File \u001b[1;32mc:\\Users\\larar\\anaconda3\\envs\\deeplearning2024\\Lib\\site-packages\\sklearn\\utils\\validation.py:460\u001b[0m, in \u001b[0;36mcheck_consistent_length\u001b[1;34m(*arrays)\u001b[0m\n\u001b[0;32m    458\u001b[0m uniques \u001b[38;5;241m=\u001b[39m np\u001b[38;5;241m.\u001b[39munique(lengths)\n\u001b[0;32m    459\u001b[0m \u001b[38;5;28;01mif\u001b[39;00m \u001b[38;5;28mlen\u001b[39m(uniques) \u001b[38;5;241m>\u001b[39m \u001b[38;5;241m1\u001b[39m:\n\u001b[1;32m--> 460\u001b[0m     \u001b[38;5;28;01mraise\u001b[39;00m \u001b[38;5;167;01mValueError\u001b[39;00m(\n\u001b[0;32m    461\u001b[0m         \u001b[38;5;124m\"\u001b[39m\u001b[38;5;124mFound input variables with inconsistent numbers of samples: \u001b[39m\u001b[38;5;132;01m%r\u001b[39;00m\u001b[38;5;124m\"\u001b[39m\n\u001b[0;32m    462\u001b[0m         \u001b[38;5;241m%\u001b[39m [\u001b[38;5;28mint\u001b[39m(l) \u001b[38;5;28;01mfor\u001b[39;00m l \u001b[38;5;129;01min\u001b[39;00m lengths]\n\u001b[0;32m    463\u001b[0m     )\n",
      "\u001b[1;31mValueError\u001b[0m: Found input variables with inconsistent numbers of samples: [141, 70]"
     ]
    }
   ],
   "source": [
    "image_dir = 'G:/Mi unidad/LICENSE_PLATES_RECOGITION_L&V/GITHUB_trainset_croppedimages'  \n",
    "svm_txt = 'G:/Mi unidad/LICENSE_PLATES_RECOGITION_L&V/svc_predictions.txt'  \n",
    "cnn_txt = 'G:/Mi unidad/LICENSE_PLATES_RECOGITION_L&V/cnn_predictions.txt' \n",
    "ocr_txt = 'G:/Mi unidad/LICENSE_PLATES_RECOGITION_L&V/ocr_predictions.txt'  \n",
    "svm_txt_filter = 'G:/Mi unidad/LICENSE_PLATES_RECOGITION_L&V/svc_filtered.txt'  \n",
    "cnn_txt_filter = 'G:/Mi unidad/LICENSE_PLATES_RECOGITION_L&V/cnn_filtered.txt'  \n",
    "ocr_txt_filter = 'G:/Mi unidad/LICENSE_PLATES_RECOGITION_L&V/ocr_filtered.txt'  \n",
    "\n",
    "v.run_evaluation_with_filenames(image_dir, svm_txt, cnn_txt, ocr_txt, svm_txt_filter, cnn_txt_filter, ocr_txt_filter)"
   ]
  },
  {
   "cell_type": "markdown",
   "metadata": {},
   "source": [
    "## Testing"
   ]
  },
  {
   "cell_type": "code",
   "execution_count": null,
   "metadata": {},
   "outputs": [],
   "source": [
    "image_dir_test = 'G:/Mi unidad/LICENSE_PLATES_RECOGITION_L&V/GITHUB_testset_croppedimages'  \n",
    "svm_txt_test = 'G:/Mi unidad/LICENSE_PLATES_RECOGITION_L&V/svc_predictions_test.txt'  \n",
    "cnn_txt_test = 'G:/Mi unidad/LICENSE_PLATES_RECOGITION_L&V/cnn_predictions_test.txt' \n",
    "ocr_txt_test = 'G:/Mi unidad/LICENSE_PLATES_RECOGITION_L&V/ocr_predictions_test.txt'  \n",
    "svm_txt_filter_test = 'G:/Mi unidad/LICENSE_PLATES_RECOGITION_L&V/svc_filtered_test.txt'  \n",
    "cnn_txt_filter_test = 'G:/Mi unidad/LICENSE_PLATES_RECOGITION_L&V/cnn_filtered_test.txt'  \n",
    "ocr_txt_filter_test = 'G:/Mi unidad/LICENSE_PLATES_RECOGITION_L&V/ocr_filtered_test.txt'  \n",
    "\n",
    "v.run_evaluation_with_filenames(image_dir_test, svm_txt_test, cnn_txt_test, ocr_txt_test, svm_txt_filter_test, cnn_txt_filter_test, ocr_txt_filter_test, class_names)"
   ]
  },
  {
   "cell_type": "markdown",
   "metadata": {},
   "source": [
    "## Validation"
   ]
  },
  {
   "cell_type": "code",
   "execution_count": null,
   "metadata": {},
   "outputs": [],
   "source": [
    "image_dir_validation = 'G:/Mi unidad/LICENSE_PLATES_RECOGITION_L&V/GITHUB_validationset_croppedimages'  \n",
    "svm_txt_validation = 'G:/Mi unidad/LICENSE_PLATES_RECOGITION_L&V/svc_predictions_validation.txt'  \n",
    "cnn_txt_validation = 'G:/Mi unidad/LICENSE_PLATES_RECOGITION_L&V/cnn_predictions_validation.txt' \n",
    "ocr_txt_validation = 'G:/Mi unidad/LICENSE_PLATES_RECOGITION_L&V/ocr_predictions_validation.txt'  \n",
    "svm_txt_filter_validation = 'G:/Mi unidad/LICENSE_PLATES_RECOGITION_L&V/svc_filtered_validation.txt'  \n",
    "cnn_txt_filter_validation = 'G:/Mi unidad/LICENSE_PLATES_RECOGITION_L&V/cnn_filtered_validation.txt'  \n",
    "ocr_txt_filter_validation = 'G:/Mi unidad/LICENSE_PLATES_RECOGITION_L&V/ocr_filtered_validation.txt'  \n",
    "\n",
    "v.run_evaluation_with_filenames(image_dir_validation, svm_txt_validation, cnn_txt_validation, ocr_txt_validation, svm_txt_validation, cnn_txt_filter_validation, ocr_txt_filter_validation, class_names)"
   ]
  },
  {
   "cell_type": "markdown",
   "metadata": {},
   "source": [
    "## SVM EVALUATION"
   ]
  },
  {
   "cell_type": "markdown",
   "metadata": {},
   "source": [
    "## OCR EVALUATION"
   ]
  },
  {
   "cell_type": "markdown",
   "metadata": {},
   "source": [
    "## CONFUSION MATRIX"
   ]
  },
  {
   "cell_type": "markdown",
   "metadata": {},
   "source": [
    "## COMPARATIVE ANALYSIS"
   ]
  },
  {
   "cell_type": "code",
   "execution_count": null,
   "metadata": {},
   "outputs": [],
   "source": [
    "metrics_data = {\n",
    "    'Model': ['SVM', 'CNN'],\n",
    "    'Accuracy': [svm_accuracy, cnn_accuracy],\n",
    "    'Precision': [svm_precision, cnn_precision],\n",
    "    'Recall': [svm_recall, cnn_recall],\n",
    "    'F1 Score': [svm_f1, cnn_f1]\n",
    "}\n",
    "\n",
    "metrics_df = pd.DataFrame(metrics_data)\n",
    "print(metrics_df)\n",
    "\n",
    "# Plot the comparative metrics\n",
    "metrics_df.set_index('Model').plot(kind='bar', figsize=(10, 6))\n",
    "plt.title(\"Comparison of SVM and CNN on License Plate Recognition\")\n",
    "plt.ylabel(\"Metric Value\")\n",
    "plt.xticks(rotation=0)\n",
    "plt.show()"
   ]
  },
  {
   "cell_type": "markdown",
   "metadata": {},
   "source": [
    "# API PART"
   ]
  },
  {
   "cell_type": "code",
   "execution_count": 34,
   "metadata": {},
   "outputs": [
    {
     "name": "stdout",
     "output_type": "stream",
     "text": [
      "STATE: 200\n",
      "RESPONSE: <?xml version=\"1.0\" encoding=\"utf-8\"?><soap:Envelope xmlns:soap=\"http://schemas.xmlsoap.org/soap/envelope/\" xmlns:xsi=\"http://www.w3.org/2001/XMLSchema-instance\" xmlns:xsd=\"http://www.w3.org/2001/XMLSchema\"><soap:Body><CheckSpainResponse xmlns=\"http://regcheck.org.uk\"><CheckSpainResult><vehicleJson>{\n",
      "  \"Description\": \"CITROEN C3\",\n",
      "  \"CarMake\": {\n",
      "    \"CurrentTextValue\": \"CITROEN\"\n",
      "  },\n",
      "  \"CarModel\": {\n",
      "    \"CurrentTextValue\": \"C3\"\n",
      "  },\n",
      "  \"MakeDescription\": {\n",
      "    \"CurrentTextValue\": \"CITROEN\"\n",
      "  },\n",
      "  \"ModelDescription\": {\n",
      "    \"CurrentTextValue\": \"C3\"\n",
      "  },\n",
      "  \"EngineSize\": \"1199\",\n",
      "  \"VehicleIdentificationNumber\": null,\n",
      "  \"RegistrationYear\": \"2023\",\n",
      "  \"RegistrationDate\": \"15/06/2023\",\n",
      "  \"Variation\": \"1.2 PURETECH 83 FEEL\",\n",
      "  \"Seats\": null,\n",
      "  \"VariantType\": \"Gasolina 1199 cc 5 puertas\",\n",
      "  \"VehicleType\": \"Car\",\n",
      "  \"Fuel\": \"Gasolina\",\n",
      "  \"IndicativePrice\": null,\n",
      "  \"Doors\": \"5\",\n",
      "  \"AllTerain\": null,\n",
      "  \"KType\": null,\n",
      "  \"ImageUrl\": \"http://matriculaapi.com/image.aspx/@Q0lUUk9FTiBDMw==\",\n",
      "  \"DynamicPower\": \"83.0\",\n",
      "  \"Stolen\": null\n",
      "}</vehicleJson><vehicleData><Description>CITROEN C3</Description><RegistrationYear>2023</RegistrationYear><CarMake><CurrentTextValue>CITROEN</CurrentTextValue></CarMake><CarModel>C3</CarModel><EngineSize><CurrentTextValue>1199</CurrentTextValue></EngineSize></vehicleData></CheckSpainResult></CheckSpainResponse></soap:Body></soap:Envelope>\n"
     ]
    }
   ],
   "source": [
    "#api.api_car_model(predicted_plate)"
   ]
  },
  {
   "cell_type": "markdown",
   "metadata": {},
   "source": [
    "# COUNTER CHARACTERS"
   ]
  },
  {
   "cell_type": "code",
   "execution_count": 6,
   "metadata": {},
   "outputs": [
    {
     "name": "stdout",
     "output_type": "stream",
     "text": [
      "Data has been saved to folder_counts.csv\n"
     ]
    }
   ],
   "source": [
    "path = \"G:/Mi unidad/LICENSE_PLATES_RECOGITION_L&V/Dataset Characters\"\n",
    "output_file = \"folder_counts.csv\"\n",
    "r.count_files_in_folders(path, output_file)"
   ]
  }
 ],
 "metadata": {
  "kernelspec": {
   "display_name": "deeplearning2024",
   "language": "python",
   "name": "python3"
  },
  "language_info": {
   "codemirror_mode": {
    "name": "ipython",
    "version": 3
   },
   "file_extension": ".py",
   "mimetype": "text/x-python",
   "name": "python",
   "nbconvert_exporter": "python",
   "pygments_lexer": "ipython3",
   "version": "3.12.3"
  }
 },
 "nbformat": 4,
 "nbformat_minor": 2
}
