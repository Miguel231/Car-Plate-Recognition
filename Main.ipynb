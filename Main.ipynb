{
 "cells": [
  {
   "cell_type": "code",
   "execution_count": 5,
   "metadata": {},
   "outputs": [],
   "source": [
    "import functions_licenseplate as fl\n",
    "import functions_yolo_licenseplate as yolo\n",
    "import functions_recognition as r"
   ]
  },
  {
   "cell_type": "code",
   "execution_count": 6,
   "metadata": {},
   "outputs": [
    {
     "ename": "AttributeError",
     "evalue": "module 'functions_yolo_licenseplate' has no attribute 'extract_license_plates_from_folder'",
     "output_type": "error",
     "traceback": [
      "\u001b[1;31m---------------------------------------------------------------------------\u001b[0m",
      "\u001b[1;31mAttributeError\u001b[0m                            Traceback (most recent call last)",
      "Cell \u001b[1;32mIn[6], line 5\u001b[0m\n\u001b[0;32m      2\u001b[0m image_folder \u001b[38;5;241m=\u001b[39m \u001b[38;5;124m'\u001b[39m\u001b[38;5;124mG:/Mi unidad/LICENSE_PLATES_RECOGITION_L&V/combined_folder_last(onlyspain)\u001b[39m\u001b[38;5;124m'\u001b[39m\n\u001b[0;32m      3\u001b[0m \u001b[38;5;66;03m#fl.plate_recognition(image_folder= image_folder)\u001b[39;00m\n\u001b[0;32m      4\u001b[0m \u001b[38;5;66;03m#cropped_plates_dict = extract_license_plates_from_folder(folder_path)\u001b[39;00m\n\u001b[1;32m----> 5\u001b[0m cropped_plates \u001b[38;5;241m=\u001b[39m yolo\u001b[38;5;241m.\u001b[39mextract_license_plates_from_folder(image_folder\u001b[38;5;241m=\u001b[39mimage_folder)\n\u001b[0;32m      6\u001b[0m fl\u001b[38;5;241m.\u001b[39mdisplay_images_with_plt(cropped_plates)\n",
      "\u001b[1;31mAttributeError\u001b[0m: module 'functions_yolo_licenseplate' has no attribute 'extract_license_plates_from_folder'"
     ]
    }
   ],
   "source": [
    "#image_folder = 'G://.shortcut-targets-by-id//1xjrivG-T7lph1wnu1KGxnsESEs0U5vvV//LICENSE_PLATES_RECOGITION_L&V//combined_folder_last(onlyspain)'\n",
    "image_folder = 'G:/Mi unidad/LICENSE_PLATES_RECOGITION_L&V/combined_folder_last(onlyspain)'\n",
    "#fl.plate_recognition(image_folder= image_folder)\n",
    "cropped_plates = yolo.yolo_plate_recognition(image_folder=image_folder)\n",
    "fl.display_images_with_plt(cropped_plates)"
   ]
  },
  {
   "cell_type": "code",
   "execution_count": 68,
   "metadata": {},
   "outputs": [
    {
     "ename": "error",
     "evalue": "OpenCV(4.10.0) D:\\a\\opencv-python\\opencv-python\\opencv\\modules\\imgproc\\src\\resize.cpp:4152: error: (-215:Assertion failed) !ssize.empty() in function 'cv::resize'\n",
     "output_type": "error",
     "traceback": [
      "\u001b[1;31m---------------------------------------------------------------------------\u001b[0m",
      "\u001b[1;31merror\u001b[0m                                     Traceback (most recent call last)",
      "Cell \u001b[1;32mIn[68], line 1\u001b[0m\n\u001b[1;32m----> 1\u001b[0m \u001b[43mr\u001b[49m\u001b[38;5;241;43m.\u001b[39;49m\u001b[43mOCR_image\u001b[49m\u001b[43m(\u001b[49m\u001b[43mlicense_plate\u001b[49m\u001b[43m \u001b[49m\u001b[38;5;241;43m=\u001b[39;49m\u001b[43m \u001b[49m\u001b[43mblue_rectangle_crop\u001b[49m\u001b[43m)\u001b[49m\n",
      "File \u001b[1;32mc:\\Users\\migue\\OneDrive\\Escritorio\\UAB INTELIGENCIA ARTIFICIAL\\Tercer Any\\3A\\Vision and Learning\\Challenge 1\\Car-Plate-Recognition\\functions_recognition.py:162\u001b[0m, in \u001b[0;36mOCR_image\u001b[1;34m(license_plate)\u001b[0m\n\u001b[0;32m    160\u001b[0m \u001b[38;5;28;01mdef\u001b[39;00m \u001b[38;5;21mOCR_image\u001b[39m(license_plate):\n\u001b[0;32m    161\u001b[0m     upscale_factor \u001b[38;5;241m=\u001b[39m \u001b[38;5;241m8\u001b[39m\n\u001b[1;32m--> 162\u001b[0m     upscaled_license_plate \u001b[38;5;241m=\u001b[39m \u001b[43mcv2\u001b[49m\u001b[38;5;241;43m.\u001b[39;49m\u001b[43mresize\u001b[49m\u001b[43m(\u001b[49m\u001b[43mlicense_plate\u001b[49m\u001b[43m,\u001b[49m\u001b[43m \u001b[49m\u001b[38;5;28;43;01mNone\u001b[39;49;00m\u001b[43m,\u001b[49m\u001b[43m \u001b[49m\u001b[43mfx\u001b[49m\u001b[38;5;241;43m=\u001b[39;49m\u001b[43mupscale_factor\u001b[49m\u001b[43m,\u001b[49m\u001b[43m \u001b[49m\u001b[43mfy\u001b[49m\u001b[38;5;241;43m=\u001b[39;49m\u001b[43mupscale_factor\u001b[49m\u001b[43m,\u001b[49m\u001b[43m \u001b[49m\u001b[43minterpolation\u001b[49m\u001b[38;5;241;43m=\u001b[39;49m\u001b[43mcv2\u001b[49m\u001b[38;5;241;43m.\u001b[39;49m\u001b[43mINTER_CUBIC\u001b[49m\u001b[43m)\u001b[49m\n\u001b[0;32m    163\u001b[0m     license_plate_2 \u001b[38;5;241m=\u001b[39m upscaled_license_plate\u001b[38;5;241m.\u001b[39mcopy()\n\u001b[0;32m    166\u001b[0m     gray \u001b[38;5;241m=\u001b[39m cv2\u001b[38;5;241m.\u001b[39mcvtColor(upscaled_license_plate, cv2\u001b[38;5;241m.\u001b[39mCOLOR_BGR2GRAY)\n",
      "\u001b[1;31merror\u001b[0m: OpenCV(4.10.0) D:\\a\\opencv-python\\opencv-python\\opencv\\modules\\imgproc\\src\\resize.cpp:4152: error: (-215:Assertion failed) !ssize.empty() in function 'cv::resize'\n"
     ]
    }
   ],
   "source": [
    "r.OCR_image(license_plate = blue_rectangle_crop)"
   ]
  }
 ],
 "metadata": {
  "kernelspec": {
   "display_name": "deeplearning2024",
   "language": "python",
   "name": "python3"
  },
  "language_info": {
   "codemirror_mode": {
    "name": "ipython",
    "version": 3
   },
   "file_extension": ".py",
   "mimetype": "text/x-python",
   "name": "python",
   "nbconvert_exporter": "python",
   "pygments_lexer": "ipython3",
   "version": "3.12.3"
  }
 },
 "nbformat": 4,
 "nbformat_minor": 2
}
